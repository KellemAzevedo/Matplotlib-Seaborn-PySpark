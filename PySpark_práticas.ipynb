{
  "nbformat": 4,
  "nbformat_minor": 0,
  "metadata": {
    "colab": {
      "provenance": [],
      "include_colab_link": true
    },
    "kernelspec": {
      "name": "python3",
      "display_name": "Python 3"
    },
    "language_info": {
      "name": "python"
    }
  },
  "cells": [
    {
      "cell_type": "markdown",
      "metadata": {
        "id": "view-in-github",
        "colab_type": "text"
      },
      "source": [
        "<a href=\"https://colab.research.google.com/github/KellemAzevedo/Matplotlib-Seaborn-PySpark/blob/main/PySpark_pr%C3%A1ticas.ipynb\" target=\"_parent\"><img src=\"https://colab.research.google.com/assets/colab-badge.svg\" alt=\"Open In Colab\"/></a>"
      ]
    },
    {
      "cell_type": "markdown",
      "source": [
        "# Configurações iniciais"
      ],
      "metadata": {
        "id": "W2pYE-d1b35-"
      }
    },
    {
      "cell_type": "markdown",
      "source": [
        "## Instal"
      ],
      "metadata": {
        "id": "X1E4LjImb-C5"
      }
    },
    {
      "cell_type": "code",
      "execution_count": null,
      "metadata": {
        "id": "7mq9hIMfTOTU"
      },
      "outputs": [],
      "source": [
        "!apt-get install openjdk-8-jdk-headless -qq > /dev/null\n",
        "!wget -q http://archive.apache.org/dist/spark/spark-3.1.1/spark-3.1.1-bin-hadoop3.2.tgz\n",
        "!tar xf spark-3.1.1-bin-hadoop3.2.tgz\n",
        "!pip install -q findspark"
      ]
    },
    {
      "cell_type": "markdown",
      "source": [
        "# Criando ambiente virtual do PySpark"
      ],
      "metadata": {
        "id": "TZB1YhsCcxNA"
      }
    },
    {
      "cell_type": "code",
      "source": [
        "import os\n",
        "os.environ[\"JAVA_HOME\"] = \"/usr/lib/jvm/java-8-openjdk-amd64\"\n",
        "os.environ[\"SPARK_HOME\"] = \"/content/spark-3.1.1-bin-hadoop3.2\""
      ],
      "metadata": {
        "id": "CUJGKPLDcwfK"
      },
      "execution_count": null,
      "outputs": []
    },
    {
      "cell_type": "markdown",
      "source": [
        "# Criando a sessão PySpark"
      ],
      "metadata": {
        "id": "DUOC0DrCdAlL"
      }
    },
    {
      "cell_type": "code",
      "source": [
        "import findspark\n",
        "findspark.init()\n",
        "from pyspark.sql import SparkSession\n",
        "spark = SparkSession.builder.master(\"local[*]\").getOrCreate()\n",
        "from pyspark.sql.functions import regexp_replace\n",
        "spark.conf.set(\"spark.sql.repl.eagerEval.enabled\", True) # Para deixar a visualição das tabelas mais amigável\n",
        "spark"
      ],
      "metadata": {
        "colab": {
          "base_uri": "https://localhost:8080/",
          "height": 219
        },
        "id": "1OXqId0ec_3U",
        "outputId": "1d5b6831-e9e0-4aa3-9a93-4d01780f6426"
      },
      "execution_count": null,
      "outputs": [
        {
          "output_type": "execute_result",
          "data": {
            "text/plain": [
              "<pyspark.sql.session.SparkSession at 0x7fe760500820>"
            ],
            "text/html": [
              "\n",
              "            <div>\n",
              "                <p><b>SparkSession - in-memory</b></p>\n",
              "                \n",
              "        <div>\n",
              "            <p><b>SparkContext</b></p>\n",
              "\n",
              "            <p><a href=\"http://9b9434f58deb:4040\">Spark UI</a></p>\n",
              "\n",
              "            <dl>\n",
              "              <dt>Version</dt>\n",
              "                <dd><code>v3.1.1</code></dd>\n",
              "              <dt>Master</dt>\n",
              "                <dd><code>local[*]</code></dd>\n",
              "              <dt>AppName</dt>\n",
              "                <dd><code>pyspark-shell</code></dd>\n",
              "            </dl>\n",
              "        </div>\n",
              "        \n",
              "            </div>\n",
              "        "
            ]
          },
          "metadata": {},
          "execution_count": 18
        }
      ]
    },
    {
      "cell_type": "markdown",
      "source": [
        "# Lendo um arquivo a partir do disco"
      ],
      "metadata": {
        "id": "lesUPgB7o0lx"
      }
    },
    {
      "cell_type": "code",
      "source": [
        "df = spark.read.csv('/content/Estatística Descritiva - Organização Gráfica.csv',header=True)"
      ],
      "metadata": {
        "id": "xSqxAveqgKtu"
      },
      "execution_count": null,
      "outputs": []
    },
    {
      "cell_type": "code",
      "source": [
        "df.show()"
      ],
      "metadata": {
        "colab": {
          "base_uri": "https://localhost:8080/"
        },
        "id": "8-27iJIynbzC",
        "outputId": "a1db52ab-c06a-43dc-8489-3af17024380d"
      },
      "execution_count": null,
      "outputs": [
        {
          "output_type": "stream",
          "name": "stdout",
          "text": [
            "+---------+--------+---------+------+------+-----+------------+-----------+------------+------------+-----+\n",
            "|Matrícula|    Nome|   Cidade|Estado|  País|Idade|Departamento|      Cargo|Salário (R$)|Escolaridade|Nota |\n",
            "+---------+--------+---------+------+------+-----+------------+-----------+------------+------------+-----+\n",
            "|        1|   Lucas|  Atibaia|    SP|Brasil|   35|     Compras|    Gerente|       25000|    Superior|    8|\n",
            "|        2|     Ana|São Paulo|    SP|Brasil|   29|      Vendas|Coordenador|       12000|    Superior|    6|\n",
            "|        3|   Luiza|   Santos|    SP|Brasil|   38|    Finanças|    Gerente|       28000|         MBA|    9|\n",
            "|        4|Fernando|  Atibaia|    SP|Brasil|   36|   Marketing|    Diretor|       40000|    Mestrado|    7|\n",
            "|        5|  Sandra|  Atibaia|    SP|Brasil|   28|    Produção|   Analista|       23000|    Superior|    5|\n",
            "|        6| Douglas| Bragança|    SP|Brasil|   29|    Finanças|   Analista|       11000|    Superior|    9|\n",
            "|        7| Eduardo|  Extrema|    MG|Brasil|   30|   Marketing|    Gerente|       12000|         MBA|    4|\n",
            "|        8|   Ester|  Itapeva|    MG|Brasil|   29|     Compras|   Analista|       10000|    Superior|    2|\n",
            "|        9|   Pedro|  Extrema|    MG|Brasil|   30|   Marketing|   Analista|       13000|    Superior|    1|\n",
            "|       10|   Maria|  Extrema|    MG|Brasil|   40|    Produção|   Analista|       12000|         MBA|    7|\n",
            "+---------+--------+---------+------+------+-----+------------+-----------+------------+------------+-----+\n",
            "\n"
          ]
        }
      ]
    },
    {
      "cell_type": "code",
      "source": [
        "df.printSchema()"
      ],
      "metadata": {
        "colab": {
          "base_uri": "https://localhost:8080/"
        },
        "id": "eT6-0kqBnovX",
        "outputId": "e4cc6c55-ca72-4ea1-d141-d2f8fcc58365"
      },
      "execution_count": null,
      "outputs": [
        {
          "output_type": "stream",
          "name": "stdout",
          "text": [
            "root\n",
            " |-- Matrícula: string (nullable = true)\n",
            " |-- Nome: string (nullable = true)\n",
            " |-- Cidade: string (nullable = true)\n",
            " |-- Estado: string (nullable = true)\n",
            " |-- País: string (nullable = true)\n",
            " |-- Idade: string (nullable = true)\n",
            " |-- Departamento: string (nullable = true)\n",
            " |-- Cargo: string (nullable = true)\n",
            " |-- Salário (R$): string (nullable = true)\n",
            " |-- Escolaridade: string (nullable = true)\n",
            " |-- Nota : string (nullable = true)\n",
            "\n"
          ]
        }
      ]
    },
    {
      "cell_type": "markdown",
      "source": [
        "# Criando um arquivo a partir do zero"
      ],
      "metadata": {
        "id": "QkKuwjDdpB3g"
      }
    },
    {
      "cell_type": "code",
      "source": [
        "# Criando uma tabela\n",
        "from pyspark.sql.types import *\n",
        "from pyspark.sql.types import StructType,StructField,StringType,IntegerType,DoubleType # importando estrutura da tabela (structType)\n",
        "schema = StructType([ \\\n",
        "    StructField('nome',StringType(),True), \\\n",
        "    StructField('idade',IntegerType(),True), \\\n",
        "    StructField('altura',DoubleType(),True), \\\n",
        "    StructField('peso', DoubleType(), True), \\\n",
        "  ])"
      ],
      "metadata": {
        "id": "nKA896IKpEXi"
      },
      "execution_count": null,
      "outputs": []
    },
    {
      "cell_type": "code",
      "source": [
        "# Criando os dados em Python para inserir na tabela em PySpark\n",
        "'''\n",
        "Criação do objeto (nível Python) que contém as tuplas com os regitros que farão\n",
        "parte da tabela\n",
        "'''\n",
        "dados = [('Douglas',45,1.85,70.),\n",
        "    ('Daniela',7,1.23,22.),\n",
        "    ('Pedro',65,1.75,87.),\n",
        "    ('Maria',64,1.67,64.),\n",
        "    ('Eduardo',37,1.82,96.),\n",
        "    ('Ester',37,1.73,68.)\n",
        "  ]"
      ],
      "metadata": {
        "id": "lbsWfSuB0tET"
      },
      "execution_count": null,
      "outputs": []
    },
    {
      "cell_type": "code",
      "source": [
        "# Trazendo para o ambiente pyspark\n",
        "df = spark.createDataFrame(schema=schema, data=dados)\n",
        "df.show()"
      ],
      "metadata": {
        "colab": {
          "base_uri": "https://localhost:8080/"
        },
        "id": "kkX3MdKN3pJn",
        "outputId": "fc7574fa-dac2-489a-8d66-b3292b1fd424"
      },
      "execution_count": null,
      "outputs": [
        {
          "output_type": "stream",
          "name": "stdout",
          "text": [
            "+-------+-----+------+----+\n",
            "|   nome|idade|altura|peso|\n",
            "+-------+-----+------+----+\n",
            "|Douglas|   45|  1.85|70.0|\n",
            "|Daniela|    7|  1.23|22.0|\n",
            "|  Pedro|   65|  1.75|87.0|\n",
            "|  Maria|   64|  1.67|64.0|\n",
            "|Eduardo|   37|  1.82|96.0|\n",
            "|  Ester|   37|  1.73|68.0|\n",
            "+-------+-----+------+----+\n",
            "\n"
          ]
        }
      ]
    },
    {
      "cell_type": "markdown",
      "source": [
        "# Filtros com AND e OR"
      ],
      "metadata": {
        "id": "03bv1AzO7r8Z"
      }
    },
    {
      "cell_type": "code",
      "source": [
        "# Filtrar idades maior que 40 e peso maior que 70\n",
        "filtro01 = df.filter((df['idade']>=40)&(df['peso']>=70)) # em pyspark o operador lógico and deve ser usado pelo símbolo &\n",
        "filtro01.show()"
      ],
      "metadata": {
        "colab": {
          "base_uri": "https://localhost:8080/"
        },
        "id": "K6RUQeHo7S0h",
        "outputId": "d5b5f7f7-faef-40be-d177-a52da98979d0"
      },
      "execution_count": null,
      "outputs": [
        {
          "output_type": "stream",
          "name": "stdout",
          "text": [
            "+-------+-----+------+----+\n",
            "|   nome|idade|altura|peso|\n",
            "+-------+-----+------+----+\n",
            "|Douglas|   45|  1.85|70.0|\n",
            "|  Pedro|   65|  1.75|87.0|\n",
            "+-------+-----+------+----+\n",
            "\n"
          ]
        }
      ]
    },
    {
      "cell_type": "code",
      "source": [
        "# Filtrar idade maior que 40 ou peso maior que 50\n",
        "filtro02 = df.filter((df['idade']>=40)|(df['peso']>=50)) # em pyspark o operador lógico ou deve ser usado pelo símbolo |\n",
        "filtro02.show()"
      ],
      "metadata": {
        "colab": {
          "base_uri": "https://localhost:8080/"
        },
        "id": "vw7EmKIy7p1E",
        "outputId": "06f37f9d-c9fd-43bf-e260-b9fc35e19f9f"
      },
      "execution_count": null,
      "outputs": [
        {
          "output_type": "stream",
          "name": "stdout",
          "text": [
            "+-------+-----+------+----+\n",
            "|   nome|idade|altura|peso|\n",
            "+-------+-----+------+----+\n",
            "|Douglas|   45|  1.85|70.0|\n",
            "|  Pedro|   65|  1.75|87.0|\n",
            "|  Maria|   64|  1.67|64.0|\n",
            "|Eduardo|   37|  1.82|96.0|\n",
            "|  Ester|   37|  1.73|68.0|\n",
            "+-------+-----+------+----+\n",
            "\n"
          ]
        }
      ]
    },
    {
      "cell_type": "code",
      "source": [
        "# Filtrar idade maior que 40 e peso maior que 50, porém com outra notação\n",
        "filtro03 = df.filter('idade >= 40 AND peso >= 50')\n",
        "filtro03.show()"
      ],
      "metadata": {
        "colab": {
          "base_uri": "https://localhost:8080/"
        },
        "id": "tPHeJQjASAST",
        "outputId": "8e106208-3614-4644-9c94-40223472bc02"
      },
      "execution_count": null,
      "outputs": [
        {
          "output_type": "stream",
          "name": "stdout",
          "text": [
            "+-------+-----+------+----+\n",
            "|   nome|idade|altura|peso|\n",
            "+-------+-----+------+----+\n",
            "|Douglas|   45|  1.85|70.0|\n",
            "|  Pedro|   65|  1.75|87.0|\n",
            "|  Maria|   64|  1.67|64.0|\n",
            "+-------+-----+------+----+\n",
            "\n"
          ]
        }
      ]
    },
    {
      "cell_type": "code",
      "source": [
        "# Filtrar idade maior que 40 ou peso maior que 50\n",
        "filtro04 = df.filter('idade >= 40 OR peso >= 50')\n",
        "filtro04.show()"
      ],
      "metadata": {
        "colab": {
          "base_uri": "https://localhost:8080/"
        },
        "id": "rqJWPvhlSgyS",
        "outputId": "c356c432-a135-41d9-807a-02d4d0a50bf6"
      },
      "execution_count": null,
      "outputs": [
        {
          "output_type": "stream",
          "name": "stdout",
          "text": [
            "+-------+-----+------+----+\n",
            "|   nome|idade|altura|peso|\n",
            "+-------+-----+------+----+\n",
            "|Douglas|   45|  1.85|70.0|\n",
            "|  Pedro|   65|  1.75|87.0|\n",
            "|  Maria|   64|  1.67|64.0|\n",
            "|Eduardo|   37|  1.82|96.0|\n",
            "|  Ester|   37|  1.73|68.0|\n",
            "+-------+-----+------+----+\n",
            "\n"
          ]
        }
      ]
    },
    {
      "cell_type": "code",
      "source": [
        "# Filtrar as linhas em que nome NÃO é Douglas\n",
        "filtro05 = df.filter(~(df['nome'] == 'Douglas')) # Filtro com operador lógico simbólico de negação\n",
        "filtro05.show()"
      ],
      "metadata": {
        "colab": {
          "base_uri": "https://localhost:8080/"
        },
        "id": "UXa9_o_wSmSv",
        "outputId": "50032eb4-c47a-4e4a-820d-62039a686b33"
      },
      "execution_count": null,
      "outputs": [
        {
          "output_type": "stream",
          "name": "stdout",
          "text": [
            "+-------+-----+------+----+\n",
            "|   nome|idade|altura|peso|\n",
            "+-------+-----+------+----+\n",
            "|Daniela|    7|  1.23|22.0|\n",
            "|  Pedro|   65|  1.75|87.0|\n",
            "|  Maria|   64|  1.67|64.0|\n",
            "|Eduardo|   37|  1.82|96.0|\n",
            "|  Ester|   37|  1.73|68.0|\n",
            "+-------+-----+------+----+\n",
            "\n"
          ]
        }
      ]
    },
    {
      "cell_type": "markdown",
      "source": [
        "# Filtro com funções"
      ],
      "metadata": {
        "id": "5o2nWO0sUbVn"
      }
    },
    {
      "cell_type": "code",
      "source": [
        "from pyspark.sql.functions import *"
      ],
      "metadata": {
        "id": "DYdlMERMUbEM"
      },
      "execution_count": null,
      "outputs": []
    },
    {
      "cell_type": "code",
      "source": [
        "# A função col permite que use outra função como parâmetro, nesse caso, startswith\n",
        "# 'Col' significa coluna\n",
        "filtro06 = df.filter(col('nome').startswith('D'))\n",
        "filtro06.show()"
      ],
      "metadata": {
        "colab": {
          "base_uri": "https://localhost:8080/"
        },
        "id": "SGupYiCVUhsc",
        "outputId": "8ce66429-3619-44d3-9d04-1798d97da84b"
      },
      "execution_count": null,
      "outputs": [
        {
          "output_type": "stream",
          "name": "stdout",
          "text": [
            "+-------+-----+------+----+\n",
            "|   nome|idade|altura|peso|\n",
            "+-------+-----+------+----+\n",
            "|Douglas|   45|  1.85|70.0|\n",
            "|Daniela|    7|  1.23|22.0|\n",
            "+-------+-----+------+----+\n",
            "\n"
          ]
        }
      ]
    },
    {
      "cell_type": "code",
      "source": [
        "idade = df.select('idade')\n",
        "idade.show()"
      ],
      "metadata": {
        "colab": {
          "base_uri": "https://localhost:8080/"
        },
        "id": "8SX-otJNUrzY",
        "outputId": "9b036f77-15f4-41cc-f484-26a8b32c6c92"
      },
      "execution_count": null,
      "outputs": [
        {
          "output_type": "stream",
          "name": "stdout",
          "text": [
            "+-----+\n",
            "|idade|\n",
            "+-----+\n",
            "|   45|\n",
            "|    7|\n",
            "|   65|\n",
            "|   64|\n",
            "|   37|\n",
            "|   37|\n",
            "+-----+\n",
            "\n"
          ]
        }
      ]
    },
    {
      "cell_type": "markdown",
      "source": [
        "## Mostrar coluna"
      ],
      "metadata": {
        "id": "XEvDAu_9w8PM"
      }
    },
    {
      "cell_type": "code",
      "source": [
        "# selecionando coluna única e armazenando em um dataframe do pyspark\n",
        "idade = df.select('idade')\n",
        "idade.show()"
      ],
      "metadata": {
        "colab": {
          "base_uri": "https://localhost:8080/"
        },
        "id": "etOa0VgBVlxb",
        "outputId": "98a0e423-d498-4402-b10c-9106a6514db0"
      },
      "execution_count": null,
      "outputs": [
        {
          "output_type": "stream",
          "name": "stdout",
          "text": [
            "+-----+\n",
            "|idade|\n",
            "+-----+\n",
            "|   45|\n",
            "|    7|\n",
            "|   65|\n",
            "|   64|\n",
            "|   37|\n",
            "|   37|\n",
            "+-----+\n",
            "\n"
          ]
        }
      ]
    },
    {
      "cell_type": "code",
      "source": [
        "# selecionando mais de uma coluna e as armazenando em um dataframe do pyspark\n",
        "filtro07 = df.select('altura','peso')\n",
        "filtro07.show()"
      ],
      "metadata": {
        "colab": {
          "base_uri": "https://localhost:8080/"
        },
        "id": "pB_8LsAtV1FP",
        "outputId": "f2ccf6bd-e0c4-48fe-b7f3-55888063ee7f"
      },
      "execution_count": null,
      "outputs": [
        {
          "output_type": "stream",
          "name": "stdout",
          "text": [
            "+------+----+\n",
            "|altura|peso|\n",
            "+------+----+\n",
            "|  1.85|70.0|\n",
            "|  1.23|22.0|\n",
            "|  1.75|87.0|\n",
            "|  1.67|64.0|\n",
            "|  1.82|96.0|\n",
            "|  1.73|68.0|\n",
            "+------+----+\n",
            "\n"
          ]
        }
      ]
    },
    {
      "cell_type": "markdown",
      "source": [
        "## Renomear"
      ],
      "metadata": {
        "id": "hP6b9yz7w4MT"
      }
    },
    {
      "cell_type": "code",
      "source": [
        "# Renomear a coluna peso para massa\n",
        "df = df.withColumnRenamed('peso','massa')\n",
        "df.show()"
      ],
      "metadata": {
        "colab": {
          "base_uri": "https://localhost:8080/"
        },
        "id": "7wmKeUX9V696",
        "outputId": "eddd7f9e-66c8-4c56-d334-7a1169407e6a"
      },
      "execution_count": null,
      "outputs": [
        {
          "output_type": "stream",
          "name": "stdout",
          "text": [
            "+-------+-----+------+-----+\n",
            "|   nome|idade|altura|massa|\n",
            "+-------+-----+------+-----+\n",
            "|Douglas|   45|  1.85| 70.0|\n",
            "|Daniela|    7|  1.23| 22.0|\n",
            "|  Pedro|   65|  1.75| 87.0|\n",
            "|  Maria|   64|  1.67| 64.0|\n",
            "|Eduardo|   37|  1.82| 96.0|\n",
            "|  Ester|   37|  1.73| 68.0|\n",
            "+-------+-----+------+-----+\n",
            "\n"
          ]
        }
      ]
    },
    {
      "cell_type": "markdown",
      "source": [
        "## Criando nova coluna"
      ],
      "metadata": {
        "id": "LsDzTBjE0WmV"
      }
    },
    {
      "cell_type": "code",
      "source": [
        "# Criando uma nova coluna\n",
        "df = df.withColumn('imc',df['massa']/df['altura']**2)\n",
        "df.show()"
      ],
      "metadata": {
        "colab": {
          "base_uri": "https://localhost:8080/"
        },
        "id": "38C8ccp-XwlL",
        "outputId": "8f5ed23b-b51b-42ca-eb8b-48c745d2fd50"
      },
      "execution_count": null,
      "outputs": [
        {
          "output_type": "stream",
          "name": "stdout",
          "text": [
            "+-------+-----+------+-----+------------------+\n",
            "|   nome|idade|altura|massa|               imc|\n",
            "+-------+-----+------+-----+------------------+\n",
            "|Douglas|   45|  1.85| 70.0| 20.45288531775018|\n",
            "|Daniela|    7|  1.23| 22.0|14.541608830722454|\n",
            "|  Pedro|   65|  1.75| 87.0|28.408163265306122|\n",
            "|  Maria|   64|  1.67| 64.0|22.948115744558788|\n",
            "|Eduardo|   37|  1.82| 96.0|28.982007003985025|\n",
            "|  Ester|   37|  1.73| 68.0|22.720438370810918|\n",
            "+-------+-----+------+-----+------------------+\n",
            "\n"
          ]
        }
      ]
    },
    {
      "cell_type": "code",
      "source": [
        "# Escolher uma determina linha por seu pseudo-índice, isso leva de volta para o Python\n",
        "tio = df.collect()[0]\n",
        "print(tio)"
      ],
      "metadata": {
        "colab": {
          "base_uri": "https://localhost:8080/"
        },
        "id": "Dw3qRDwVX03L",
        "outputId": "f2223488-ca54-464e-abc0-a16f5f9a84be"
      },
      "execution_count": null,
      "outputs": [
        {
          "output_type": "stream",
          "name": "stdout",
          "text": [
            "Row(nome='Douglas', idade=45, altura=1.85, massa=70.0, imc=20.45288531775018)\n"
          ]
        }
      ]
    },
    {
      "cell_type": "code",
      "source": [
        "# Escolher um único dado de uma linha. Por ex.: Douglas.\n",
        "doug = df.collect()[0][0]\n",
        "print(doug)"
      ],
      "metadata": {
        "colab": {
          "base_uri": "https://localhost:8080/"
        },
        "id": "fgJlez33YXT1",
        "outputId": "12a570ff-a1c8-4489-a7d7-4eb02b102317"
      },
      "execution_count": null,
      "outputs": [
        {
          "output_type": "stream",
          "name": "stdout",
          "text": [
            "Douglas\n"
          ]
        }
      ]
    },
    {
      "cell_type": "markdown",
      "source": [
        "## Adicionando uma nova linha"
      ],
      "metadata": {
        "id": "hZR04ehC2kx1"
      }
    },
    {
      "cell_type": "code",
      "source": [
        "# Criando uma nova linha\n",
        "elemento = [('Tobias',18,1.77,80.,25.535446)]\n",
        "nova_linha = spark.createDataFrame(elemento)\n",
        "nova_linha.show()"
      ],
      "metadata": {
        "colab": {
          "base_uri": "https://localhost:8080/"
        },
        "id": "TYge9AvrdCBD",
        "outputId": "ab824e4f-336b-420e-827e-67922fe914dd"
      },
      "execution_count": null,
      "outputs": [
        {
          "output_type": "stream",
          "name": "stdout",
          "text": [
            "+------+---+----+----+---------+\n",
            "|    _1| _2|  _3|  _4|       _5|\n",
            "+------+---+----+----+---------+\n",
            "|Tobias| 18|1.77|80.0|25.535446|\n",
            "+------+---+----+----+---------+\n",
            "\n"
          ]
        }
      ]
    },
    {
      "cell_type": "code",
      "source": [
        "# Adicionando ao dataframe\n",
        "df = df.union(nova_linha)\n",
        "df.show()"
      ],
      "metadata": {
        "colab": {
          "base_uri": "https://localhost:8080/"
        },
        "id": "DQpj9CPYd8TD",
        "outputId": "33c36079-985b-425d-e394-9249742b7262"
      },
      "execution_count": null,
      "outputs": [
        {
          "output_type": "stream",
          "name": "stdout",
          "text": [
            "+-------+-----+------+-----+------------------+\n",
            "|   nome|idade|altura|massa|               imc|\n",
            "+-------+-----+------+-----+------------------+\n",
            "|Douglas|   45|  1.85| 70.0| 20.45288531775018|\n",
            "|Daniela|    7|  1.23| 22.0|14.541608830722454|\n",
            "|  Pedro|   65|  1.75| 87.0|28.408163265306122|\n",
            "|  Maria|   64|  1.67| 64.0|22.948115744558788|\n",
            "|Eduardo|   37|  1.82| 96.0|28.982007003985025|\n",
            "|  Ester|   37|  1.73| 68.0|22.720438370810918|\n",
            "| Tobias|   18|  1.77| 80.0|         25.535446|\n",
            "+-------+-----+------+-----+------------------+\n",
            "\n"
          ]
        }
      ]
    },
    {
      "cell_type": "markdown",
      "source": [
        "# Medidas descritivas"
      ],
      "metadata": {
        "id": "SFHRJRn3j6Xx"
      }
    },
    {
      "cell_type": "code",
      "source": [
        "# Calcular as principais medidas descritivas do df\n",
        "df.describe().show()"
      ],
      "metadata": {
        "colab": {
          "base_uri": "https://localhost:8080/"
        },
        "id": "A_ml3USkhD5I",
        "outputId": "99eda2c3-a478-4492-fcc8-0f7a11ec6f12"
      },
      "execution_count": null,
      "outputs": [
        {
          "output_type": "stream",
          "name": "stdout",
          "text": [
            "+-------+-------+------------------+-------------------+------------------+------------------+\n",
            "|summary|   nome|             idade|             altura|             massa|               imc|\n",
            "+-------+-------+------------------+-------------------+------------------+------------------+\n",
            "|  count|      7|                 7|                  7|                 7|                 7|\n",
            "|   mean|   null|              39.0| 1.6885714285714286| 69.57142857142857|23.369809219019068|\n",
            "| stddev|   null|21.641010450839243|0.21058874387682508|23.831751529259886| 4.976893829941699|\n",
            "|    min|Daniela|                 7|               1.23|              22.0|14.541608830722454|\n",
            "|    max| Tobias|                65|               1.85|              96.0|28.982007003985025|\n",
            "+-------+-------+------------------+-------------------+------------------+------------------+\n",
            "\n"
          ]
        }
      ]
    },
    {
      "cell_type": "markdown",
      "source": [
        "## Minúscculo"
      ],
      "metadata": {
        "id": "wwLgeXu00ESd"
      }
    },
    {
      "cell_type": "code",
      "source": [
        "#Criar uma nova coluna com os nomes só com letras em caixa baixa\n",
        "df = df.withColumn('minu',lower(col('nome')))\n",
        "df.show()"
      ],
      "metadata": {
        "colab": {
          "base_uri": "https://localhost:8080/"
        },
        "id": "dX4OXt5Ehw-R",
        "outputId": "732afe3a-090f-4177-eeb5-a90aae695ac4"
      },
      "execution_count": null,
      "outputs": [
        {
          "output_type": "stream",
          "name": "stdout",
          "text": [
            "+-------+-----+------+-----+------------------+-------+\n",
            "|   nome|idade|altura|massa|               imc|   minu|\n",
            "+-------+-----+------+-----+------------------+-------+\n",
            "|Douglas|   45|  1.85| 70.0| 20.45288531775018|douglas|\n",
            "|Daniela|    7|  1.23| 22.0|14.541608830722454|daniela|\n",
            "|  Pedro|   65|  1.75| 87.0|28.408163265306122|  pedro|\n",
            "|  Maria|   64|  1.67| 64.0|22.948115744558788|  maria|\n",
            "|Eduardo|   37|  1.82| 96.0|28.982007003985025|eduardo|\n",
            "|  Ester|   37|  1.73| 68.0|22.720438370810918|  ester|\n",
            "| Tobias|   18|  1.77| 80.0|         25.535446| tobias|\n",
            "+-------+-----+------+-----+------------------+-------+\n",
            "\n"
          ]
        }
      ]
    },
    {
      "cell_type": "code",
      "source": [
        "# Criar uma nova coluna com os nomes só com letras em caixa alta\n",
        "df = df.withColumn('maiu',upper(col('nome')))\n",
        "df.show()"
      ],
      "metadata": {
        "colab": {
          "base_uri": "https://localhost:8080/"
        },
        "id": "bxg7V9eXiKgW",
        "outputId": "e4aaa923-2f90-4658-c64c-2a81f3935cf6"
      },
      "execution_count": null,
      "outputs": [
        {
          "output_type": "stream",
          "name": "stdout",
          "text": [
            "+-------+-----+------+-----+------------------+-------+-------+\n",
            "|   nome|idade|altura|massa|               imc|   minu|   maiu|\n",
            "+-------+-----+------+-----+------------------+-------+-------+\n",
            "|Douglas|   45|  1.85| 70.0| 20.45288531775018|douglas|DOUGLAS|\n",
            "|Daniela|    7|  1.23| 22.0|14.541608830722454|daniela|DANIELA|\n",
            "|  Pedro|   65|  1.75| 87.0|28.408163265306122|  pedro|  PEDRO|\n",
            "|  Maria|   64|  1.67| 64.0|22.948115744558788|  maria|  MARIA|\n",
            "|Eduardo|   37|  1.82| 96.0|28.982007003985025|eduardo|EDUARDO|\n",
            "|  Ester|   37|  1.73| 68.0|22.720438370810918|  ester|  ESTER|\n",
            "| Tobias|   18|  1.77| 80.0|         25.535446| tobias| TOBIAS|\n",
            "+-------+-----+------+-----+------------------+-------+-------+\n",
            "\n"
          ]
        }
      ]
    },
    {
      "cell_type": "code",
      "source": [
        "# Descobrir o menor valor da coluna idade\n",
        "idade_min = df.agg({'idade':'min'}) # como resultado teremos um df spark com uma linha e uma coluna\n",
        "print(idade_min)"
      ],
      "metadata": {
        "colab": {
          "base_uri": "https://localhost:8080/"
        },
        "id": "i0YnRLDVjlh7",
        "outputId": "400d56e2-db36-496f-d9b4-887a7c8f818b"
      },
      "execution_count": null,
      "outputs": [
        {
          "output_type": "stream",
          "name": "stdout",
          "text": [
            "+----------+\n",
            "|min(idade)|\n",
            "+----------+\n",
            "|         7|\n",
            "+----------+\n",
            "\n"
          ]
        }
      ]
    },
    {
      "cell_type": "code",
      "source": [
        "# Descobrir o maior valor da coluna idade\n",
        "idade_max = df.agg({'idade':'max'}) # como resultado teremos um df spark com uma linha e uma coluna\n",
        "print(idade_max)"
      ],
      "metadata": {
        "colab": {
          "base_uri": "https://localhost:8080/"
        },
        "id": "tHE3Lvgsj0DL",
        "outputId": "d8fe39e2-ca0b-40f5-e7d6-6308d29bba86"
      },
      "execution_count": null,
      "outputs": [
        {
          "output_type": "stream",
          "name": "stdout",
          "text": [
            "+----------+\n",
            "|max(idade)|\n",
            "+----------+\n",
            "|        65|\n",
            "+----------+\n",
            "\n"
          ]
        }
      ]
    },
    {
      "cell_type": "code",
      "source": [
        "# Descobrir o valor médio da coluna idade\n",
        "idade_media = df.agg({'idade':'avg'}) # como resultado teremos um df spark com uma linha e uma coluna\n",
        "print(idade_media)"
      ],
      "metadata": {
        "colab": {
          "base_uri": "https://localhost:8080/"
        },
        "id": "ybstXxz-kKpm",
        "outputId": "9aa78faa-4a10-4714-80bd-854f9511ba83"
      },
      "execution_count": null,
      "outputs": [
        {
          "output_type": "stream",
          "name": "stdout",
          "text": [
            "+----------+\n",
            "|avg(idade)|\n",
            "+----------+\n",
            "|      39.0|\n",
            "+----------+\n",
            "\n"
          ]
        }
      ]
    },
    {
      "cell_type": "markdown",
      "source": [
        "# Ordenação"
      ],
      "metadata": {
        "id": "QdFfq_cAj-NV"
      }
    },
    {
      "cell_type": "code",
      "source": [
        "# Ordenar de forma crescente por nome\n",
        "df.orderBy('nome')"
      ],
      "metadata": {
        "colab": {
          "base_uri": "https://localhost:8080/",
          "height": 201
        },
        "id": "mnBEek7nj92P",
        "outputId": "c4a23f39-7df0-4f09-fa95-db9cfd9ee24f"
      },
      "execution_count": null,
      "outputs": [
        {
          "output_type": "execute_result",
          "data": {
            "text/plain": [
              "+-------+-----+------+-----+------------------+-------+-------+\n",
              "|   nome|idade|altura|massa|               imc|   minu|   maiu|\n",
              "+-------+-----+------+-----+------------------+-------+-------+\n",
              "|Daniela|    7|  1.23| 22.0|14.541608830722454|daniela|DANIELA|\n",
              "|Douglas|   45|  1.85| 70.0| 20.45288531775018|douglas|DOUGLAS|\n",
              "|Eduardo|   37|  1.82| 96.0|28.982007003985025|eduardo|EDUARDO|\n",
              "|  Ester|   37|  1.73| 68.0|22.720438370810918|  ester|  ESTER|\n",
              "|  Maria|   64|  1.67| 64.0|22.948115744558788|  maria|  MARIA|\n",
              "|  Pedro|   65|  1.75| 87.0|28.408163265306122|  pedro|  PEDRO|\n",
              "| Tobias|   18|  1.77| 80.0|         25.535446| tobias| TOBIAS|\n",
              "+-------+-----+------+-----+------------------+-------+-------+"
            ],
            "text/html": [
              "<table border='1'>\n",
              "<tr><th>nome</th><th>idade</th><th>altura</th><th>massa</th><th>imc</th><th>minu</th><th>maiu</th></tr>\n",
              "<tr><td>Daniela</td><td>7</td><td>1.23</td><td>22.0</td><td>14.541608830722454</td><td>daniela</td><td>DANIELA</td></tr>\n",
              "<tr><td>Douglas</td><td>45</td><td>1.85</td><td>70.0</td><td>20.45288531775018</td><td>douglas</td><td>DOUGLAS</td></tr>\n",
              "<tr><td>Eduardo</td><td>37</td><td>1.82</td><td>96.0</td><td>28.982007003985025</td><td>eduardo</td><td>EDUARDO</td></tr>\n",
              "<tr><td>Ester</td><td>37</td><td>1.73</td><td>68.0</td><td>22.720438370810918</td><td>ester</td><td>ESTER</td></tr>\n",
              "<tr><td>Maria</td><td>64</td><td>1.67</td><td>64.0</td><td>22.948115744558788</td><td>maria</td><td>MARIA</td></tr>\n",
              "<tr><td>Pedro</td><td>65</td><td>1.75</td><td>87.0</td><td>28.408163265306122</td><td>pedro</td><td>PEDRO</td></tr>\n",
              "<tr><td>Tobias</td><td>18</td><td>1.77</td><td>80.0</td><td>25.535446</td><td>tobias</td><td>TOBIAS</td></tr>\n",
              "</table>\n"
            ]
          },
          "metadata": {},
          "execution_count": 49
        }
      ]
    },
    {
      "cell_type": "code",
      "source": [
        "# Ordenar de forma decrescente por nome\n",
        "df.orderBy(df['nome'].desc())"
      ],
      "metadata": {
        "colab": {
          "base_uri": "https://localhost:8080/",
          "height": 268
        },
        "id": "q4QHpxefkjBu",
        "outputId": "9d0ad7cb-6422-4fec-8ff2-66233cedc666"
      },
      "execution_count": null,
      "outputs": [
        {
          "output_type": "execute_result",
          "data": {
            "text/plain": [
              "+---------+--------+---------+------+------+-----+------------+-----------+------------+------------+-----+\n",
              "|Matrícula|    Nome|   Cidade|Estado|  País|Idade|Departamento|      Cargo|Salário (R$)|Escolaridade|Nota |\n",
              "+---------+--------+---------+------+------+-----+------------+-----------+------------+------------+-----+\n",
              "|        5|  Sandra|  Atibaia|    SP|Brasil|   28|    Produção|   Analista|       23000|    Superior|    5|\n",
              "|        9|   Pedro|  Extrema|    MG|Brasil|   30|   Marketing|   Analista|       13000|    Superior|    1|\n",
              "|       10|   Maria|  Extrema|    MG|Brasil|   40|    Produção|   Analista|       12000|         MBA|    7|\n",
              "|        3|   Luiza|   Santos|    SP|Brasil|   38|    Finanças|    Gerente|       28000|         MBA|    9|\n",
              "|        1|   Lucas|  Atibaia|    SP|Brasil|   35|     Compras|    Gerente|       25000|    Superior|    8|\n",
              "|        4|Fernando|  Atibaia|    SP|Brasil|   36|   Marketing|    Diretor|       40000|    Mestrado|    7|\n",
              "|        8|   Ester|  Itapeva|    MG|Brasil|   29|     Compras|   Analista|       10000|    Superior|    2|\n",
              "|        7| Eduardo|  Extrema|    MG|Brasil|   30|   Marketing|    Gerente|       12000|         MBA|    4|\n",
              "|        6| Douglas| Bragança|    SP|Brasil|   29|    Finanças|   Analista|       11000|    Superior|    9|\n",
              "|        2|     Ana|São Paulo|    SP|Brasil|   29|      Vendas|Coordenador|       12000|    Superior|    6|\n",
              "+---------+--------+---------+------+------+-----+------------+-----------+------------+------------+-----+"
            ],
            "text/html": [
              "<table border='1'>\n",
              "<tr><th>Matrícula</th><th>Nome</th><th>Cidade</th><th>Estado</th><th>País</th><th>Idade</th><th>Departamento</th><th>Cargo</th><th>Salário (R$)</th><th>Escolaridade</th><th>Nota </th></tr>\n",
              "<tr><td>5</td><td>Sandra</td><td>Atibaia</td><td>SP</td><td>Brasil</td><td>28</td><td>Produção</td><td>Analista</td><td>23000</td><td>Superior</td><td>5</td></tr>\n",
              "<tr><td>9</td><td>Pedro</td><td>Extrema</td><td>MG</td><td>Brasil</td><td>30</td><td>Marketing</td><td>Analista</td><td>13000</td><td>Superior</td><td>1</td></tr>\n",
              "<tr><td>10</td><td>Maria</td><td>Extrema</td><td>MG</td><td>Brasil</td><td>40</td><td>Produção</td><td>Analista</td><td>12000</td><td>MBA</td><td>7</td></tr>\n",
              "<tr><td>3</td><td>Luiza</td><td>Santos</td><td>SP</td><td>Brasil</td><td>38</td><td>Finanças</td><td>Gerente</td><td>28000</td><td>MBA</td><td>9</td></tr>\n",
              "<tr><td>1</td><td>Lucas</td><td>Atibaia</td><td>SP</td><td>Brasil</td><td>35</td><td>Compras</td><td>Gerente</td><td>25000</td><td>Superior</td><td>8</td></tr>\n",
              "<tr><td>4</td><td>Fernando</td><td>Atibaia</td><td>SP</td><td>Brasil</td><td>36</td><td>Marketing</td><td>Diretor</td><td>40000</td><td>Mestrado</td><td>7</td></tr>\n",
              "<tr><td>8</td><td>Ester</td><td>Itapeva</td><td>MG</td><td>Brasil</td><td>29</td><td>Compras</td><td>Analista</td><td>10000</td><td>Superior</td><td>2</td></tr>\n",
              "<tr><td>7</td><td>Eduardo</td><td>Extrema</td><td>MG</td><td>Brasil</td><td>30</td><td>Marketing</td><td>Gerente</td><td>12000</td><td>MBA</td><td>4</td></tr>\n",
              "<tr><td>6</td><td>Douglas</td><td>Bragança</td><td>SP</td><td>Brasil</td><td>29</td><td>Finanças</td><td>Analista</td><td>11000</td><td>Superior</td><td>9</td></tr>\n",
              "<tr><td>2</td><td>Ana</td><td>São Paulo</td><td>SP</td><td>Brasil</td><td>29</td><td>Vendas</td><td>Coordenador</td><td>12000</td><td>Superior</td><td>6</td></tr>\n",
              "</table>\n"
            ]
          },
          "metadata": {},
          "execution_count": 86
        }
      ]
    },
    {
      "cell_type": "code",
      "source": [
        "'''\n",
        "Agora imagine que você deseja agrupar por idade\n",
        "'''\n",
        "df.groupBy('idade').agg({'idade':'count'})"
      ],
      "metadata": {
        "colab": {
          "base_uri": "https://localhost:8080/",
          "height": 201
        },
        "id": "9Qy4E3EC4MQr",
        "outputId": "14046369-dbfd-4354-b07a-ff7dad2632f1"
      },
      "execution_count": null,
      "outputs": [
        {
          "output_type": "execute_result",
          "data": {
            "text/plain": [
              "+-----+------------+\n",
              "|idade|count(idade)|\n",
              "+-----+------------+\n",
              "|   29|           3|\n",
              "|   30|           2|\n",
              "|   28|           1|\n",
              "|   35|           1|\n",
              "|   38|           1|\n",
              "|   40|           1|\n",
              "|   36|           1|\n",
              "+-----+------------+"
            ],
            "text/html": [
              "<table border='1'>\n",
              "<tr><th>idade</th><th>count(idade)</th></tr>\n",
              "<tr><td>29</td><td>3</td></tr>\n",
              "<tr><td>30</td><td>2</td></tr>\n",
              "<tr><td>28</td><td>1</td></tr>\n",
              "<tr><td>35</td><td>1</td></tr>\n",
              "<tr><td>38</td><td>1</td></tr>\n",
              "<tr><td>40</td><td>1</td></tr>\n",
              "<tr><td>36</td><td>1</td></tr>\n",
              "</table>\n"
            ]
          },
          "metadata": {},
          "execution_count": 87
        }
      ]
    },
    {
      "cell_type": "markdown",
      "source": [
        "# Exercícios"
      ],
      "metadata": {
        "id": "0-QNYqOLvC87"
      }
    },
    {
      "cell_type": "code",
      "source": [
        "df = spark.read.csv('/content/Estatística Descritiva - Organização Gráfica.csv',header=True)"
      ],
      "metadata": {
        "id": "Q7gJTOeSu8k5"
      },
      "execution_count": null,
      "outputs": []
    },
    {
      "cell_type": "code",
      "source": [
        "df.show()"
      ],
      "metadata": {
        "colab": {
          "base_uri": "https://localhost:8080/"
        },
        "id": "3izvi4pKvBiL",
        "outputId": "9381c66b-4f8c-4a19-9f93-73f04f820995"
      },
      "execution_count": null,
      "outputs": [
        {
          "output_type": "stream",
          "name": "stdout",
          "text": [
            "+---------+--------+---------+------+------+-----+------------+-----------+------------+------------+-----+\n",
            "|Matrícula|    Nome|   Cidade|Estado|  País|Idade|Departamento|      Cargo|Salário (R$)|Escolaridade|Nota |\n",
            "+---------+--------+---------+------+------+-----+------------+-----------+------------+------------+-----+\n",
            "|        1|   Lucas|  Atibaia|    SP|Brasil|   35|     Compras|    Gerente|       25000|    Superior|    8|\n",
            "|        2|     Ana|São Paulo|    SP|Brasil|   29|      Vendas|Coordenador|       12000|    Superior|    6|\n",
            "|        3|   Luiza|   Santos|    SP|Brasil|   38|    Finanças|    Gerente|       28000|         MBA|    9|\n",
            "|        4|Fernando|  Atibaia|    SP|Brasil|   36|   Marketing|    Diretor|       40000|    Mestrado|    7|\n",
            "|        5|  Sandra|  Atibaia|    SP|Brasil|   28|    Produção|   Analista|       23000|    Superior|    5|\n",
            "|        6| Douglas| Bragança|    SP|Brasil|   29|    Finanças|   Analista|       11000|    Superior|    9|\n",
            "|        7| Eduardo|  Extrema|    MG|Brasil|   30|   Marketing|    Gerente|       12000|         MBA|    4|\n",
            "|        8|   Ester|  Itapeva|    MG|Brasil|   29|     Compras|   Analista|       10000|    Superior|    2|\n",
            "|        9|   Pedro|  Extrema|    MG|Brasil|   30|   Marketing|   Analista|       13000|    Superior|    1|\n",
            "|       10|   Maria|  Extrema|    MG|Brasil|   40|    Produção|   Analista|       12000|         MBA|    7|\n",
            "+---------+--------+---------+------+------+-----+------------+-----------+------------+------------+-----+\n",
            "\n"
          ]
        }
      ]
    },
    {
      "cell_type": "code",
      "source": [
        "df.printSchema()"
      ],
      "metadata": {
        "colab": {
          "base_uri": "https://localhost:8080/"
        },
        "id": "Ay2K7D1MvF6d",
        "outputId": "3052e03e-3468-4246-fa88-c07f33a9c481"
      },
      "execution_count": null,
      "outputs": [
        {
          "output_type": "stream",
          "name": "stdout",
          "text": [
            "root\n",
            " |-- Matrícula: string (nullable = true)\n",
            " |-- Nome: string (nullable = true)\n",
            " |-- Cidade: string (nullable = true)\n",
            " |-- Estado: string (nullable = true)\n",
            " |-- País: string (nullable = true)\n",
            " |-- Idade: string (nullable = true)\n",
            " |-- Departamento: string (nullable = true)\n",
            " |-- Cargo: string (nullable = true)\n",
            " |-- Salário (R$): string (nullable = true)\n",
            " |-- Escolaridade: string (nullable = true)\n",
            " |-- Nota : string (nullable = true)\n",
            "\n"
          ]
        }
      ]
    },
    {
      "cell_type": "code",
      "source": [
        "'''\n",
        "Neste bloco vamos converter idade em inteiro, matrículaem inteiro, salári em\n",
        "double e nota em Double\n",
        "'''\n",
        "from pyspark.sql.types import *\n",
        "from pyspark.sql.types import StructType,StructField,StringType,IntegerType,DoubleType\n",
        "df = df \\\n",
        "  .withColumn(\"Matrícula\" ,\n",
        "              df[\"Matrícula\"]\n",
        "              .cast(IntegerType()))   \\\n",
        "  .withColumn(\"Idade\",\n",
        "              df[\"Idade\"]\n",
        "              .cast(IntegerType()))    \\\n",
        "  .withColumn(\"Salário (R$)\"  ,\n",
        "              df[\"Salário (R$)\"]\n",
        "              .cast(DoubleType()))    \\\n",
        "  .withColumn(\"Nota \"  ,\n",
        "              df[\"Nota \"]\n",
        "              .cast(DoubleType()))\n",
        "df.printSchema()"
      ],
      "metadata": {
        "colab": {
          "base_uri": "https://localhost:8080/"
        },
        "id": "uNlW0QiavTSG",
        "outputId": "8fa10acf-9701-4cb7-f705-4ec3d18d074c"
      },
      "execution_count": null,
      "outputs": [
        {
          "output_type": "stream",
          "name": "stdout",
          "text": [
            "root\n",
            " |-- Matrícula: integer (nullable = true)\n",
            " |-- Nome: string (nullable = true)\n",
            " |-- Cidade: string (nullable = true)\n",
            " |-- Estado: string (nullable = true)\n",
            " |-- País: string (nullable = true)\n",
            " |-- Idade: integer (nullable = true)\n",
            " |-- Departamento: string (nullable = true)\n",
            " |-- Cargo: string (nullable = true)\n",
            " |-- Salário (R$): double (nullable = true)\n",
            " |-- Escolaridade: string (nullable = true)\n",
            " |-- Nota : double (nullable = true)\n",
            "\n"
          ]
        }
      ]
    },
    {
      "cell_type": "code",
      "source": [
        "df.show()"
      ],
      "metadata": {
        "colab": {
          "base_uri": "https://localhost:8080/"
        },
        "id": "7AKdE-ZfvYs4",
        "outputId": "6322a107-7d81-4354-d6f7-9555e67fbbc3"
      },
      "execution_count": null,
      "outputs": [
        {
          "output_type": "stream",
          "name": "stdout",
          "text": [
            "+---------+--------+---------+------+------+-----+------------+-----------+------------+------------+-----+\n",
            "|Matrícula|    Nome|   Cidade|Estado|  País|Idade|Departamento|      Cargo|Salário (R$)|Escolaridade|Nota |\n",
            "+---------+--------+---------+------+------+-----+------------+-----------+------------+------------+-----+\n",
            "|        1|   Lucas|  Atibaia|    SP|Brasil|   35|     Compras|    Gerente|     25000.0|    Superior|  8.0|\n",
            "|        2|     Ana|São Paulo|    SP|Brasil|   29|      Vendas|Coordenador|     12000.0|    Superior|  6.0|\n",
            "|        3|   Luiza|   Santos|    SP|Brasil|   38|    Finanças|    Gerente|     28000.0|         MBA|  9.0|\n",
            "|        4|Fernando|  Atibaia|    SP|Brasil|   36|   Marketing|    Diretor|     40000.0|    Mestrado|  7.0|\n",
            "|        5|  Sandra|  Atibaia|    SP|Brasil|   28|    Produção|   Analista|     23000.0|    Superior|  5.0|\n",
            "|        6| Douglas| Bragança|    SP|Brasil|   29|    Finanças|   Analista|     11000.0|    Superior|  9.0|\n",
            "|        7| Eduardo|  Extrema|    MG|Brasil|   30|   Marketing|    Gerente|     12000.0|         MBA|  4.0|\n",
            "|        8|   Ester|  Itapeva|    MG|Brasil|   29|     Compras|   Analista|     10000.0|    Superior|  2.0|\n",
            "|        9|   Pedro|  Extrema|    MG|Brasil|   30|   Marketing|   Analista|     13000.0|    Superior|  1.0|\n",
            "|       10|   Maria|  Extrema|    MG|Brasil|   40|    Produção|   Analista|     12000.0|         MBA|  7.0|\n",
            "+---------+--------+---------+------+------+-----+------------+-----------+------------+------------+-----+\n",
            "\n"
          ]
        }
      ]
    },
    {
      "cell_type": "code",
      "source": [
        "'''\n",
        "Agora você vai aplicar seus conhecimentos de Pyspark para para as seguintes\n",
        "transformações no DF:\n",
        "\n",
        "1 - Renomear todas as colunas de forma que se mantenha os nomes, mas apenas com\n",
        "letras minúsculas sem espaços, e/ou caracteres especiais\n",
        "\n",
        "2 - Fazer livremente no mínimo 10 filtros que tragam recortes a partir de colunas\n",
        "diferentes\n",
        "\n",
        "3 - Considerando que todos os funcionários tem um desconto de previdência complementar\n",
        "de 10 % do salário Bruto crie e calcule os valores de uma nova coluna chamada\n",
        "previdencia.\n",
        "\n",
        "4 - Considerando que todos os funcionários nesse mês epecífico terão uma bonificacçao\n",
        "de 20% sobre o salário bruto, crie e calcule os valores de uma nova coluna chamada\n",
        "bonus\n",
        "\n",
        "5 - Crie uma nova coluna com todos os nomes dos funcionários em letras maiúsculas\n",
        "\n",
        "6 - Crie uma nova coluna com os nomes dos funcionários todos em letras minúsculas\n",
        "\n",
        "7 - Crie um novo dataframe  chamado quant apensa com as colunas idade,\n",
        "salário e notas\n",
        "\n",
        "8 - calcule as principais medidas descritivas do df quant (describe)\n",
        "\n",
        "9 - Ordene o df original por notas de forma crescente\n",
        "\n",
        "10 - faça as contagens de frequências, usando groupby para as seguintes colunas:\n",
        "a) Cargo\n",
        "b) Cidade\n",
        "c) Estado\n",
        "d) Escolaridade\n",
        "e) Departamento\n",
        "'''"
      ],
      "metadata": {
        "id": "SZRcUEL_vh9W"
      },
      "execution_count": null,
      "outputs": []
    },
    {
      "cell_type": "code",
      "source": [
        "# 1) Renomear todas as colunas de forma que se mantenha os nomes, mas apenas com letras minúsculas sem espaços, e/ou caracteres especiais\n",
        "df = df.withColumnRenamed('Matrícula','matricula')\n",
        "df = df.withColumnRenamed('Nome','nome')\n",
        "df = df.withColumnRenamed('Cidade','cidade')\n",
        "df = df.withColumnRenamed('Estado','estado')\n",
        "df = df.withColumnRenamed('País','pais')\n",
        "df = df.withColumnRenamed('Idade','idade')\n",
        "df = df.withColumnRenamed('Departamento','departamento')\n",
        "df = df.withColumnRenamed('Cargo','cargo')\n",
        "df = df.withColumnRenamed('Salário (R$)','salario')\n",
        "df = df.withColumnRenamed('Escolaridade','escolaridade')\n",
        "df = df.withColumnRenamed('Nota ','nota')\n",
        "df.show()"
      ],
      "metadata": {
        "colab": {
          "base_uri": "https://localhost:8080/"
        },
        "id": "DmcgtUBQxF7-",
        "outputId": "754a3539-e9d8-4395-c9bb-5bbe476f3ffd"
      },
      "execution_count": null,
      "outputs": [
        {
          "output_type": "stream",
          "name": "stdout",
          "text": [
            "+---------+--------+---------+------+------+-----+------------+-----------+-------+------------+----+\n",
            "|matricula|    nome|   cidade|estado|  pais|idade|departamento|      cargo|salario|escolaridade|nota|\n",
            "+---------+--------+---------+------+------+-----+------------+-----------+-------+------------+----+\n",
            "|        1|   Lucas|  Atibaia|    SP|Brasil|   35|     Compras|    Gerente|  25000|    Superior|   8|\n",
            "|        2|     Ana|São Paulo|    SP|Brasil|   29|      Vendas|Coordenador|  12000|    Superior|   6|\n",
            "|        3|   Luiza|   Santos|    SP|Brasil|   38|    Finanças|    Gerente|  28000|         MBA|   9|\n",
            "|        4|Fernando|  Atibaia|    SP|Brasil|   36|   Marketing|    Diretor|  40000|    Mestrado|   7|\n",
            "|        5|  Sandra|  Atibaia|    SP|Brasil|   28|    Produção|   Analista|  23000|    Superior|   5|\n",
            "|        6| Douglas| Bragança|    SP|Brasil|   29|    Finanças|   Analista|  11000|    Superior|   9|\n",
            "|        7| Eduardo|  Extrema|    MG|Brasil|   30|   Marketing|    Gerente|  12000|         MBA|   4|\n",
            "|        8|   Ester|  Itapeva|    MG|Brasil|   29|     Compras|   Analista|  10000|    Superior|   2|\n",
            "|        9|   Pedro|  Extrema|    MG|Brasil|   30|   Marketing|   Analista|  13000|    Superior|   1|\n",
            "|       10|   Maria|  Extrema|    MG|Brasil|   40|    Produção|   Analista|  12000|         MBA|   7|\n",
            "+---------+--------+---------+------+------+-----+------------+-----------+-------+------------+----+\n",
            "\n"
          ]
        }
      ]
    },
    {
      "cell_type": "code",
      "source": [
        "# 2) Fazer livremente no mínimo 10 filtros que tragam recortes a partir de colunas diferentes\n",
        "filtro01 = df.filter((df['idade']>=30)&(df['nota']>=4.0))\n",
        "filtro01.show()"
      ],
      "metadata": {
        "colab": {
          "base_uri": "https://localhost:8080/"
        },
        "id": "gLFt9ro95O2I",
        "outputId": "a9ada7e3-ea13-482c-da20-783ccda53915"
      },
      "execution_count": null,
      "outputs": [
        {
          "output_type": "stream",
          "name": "stdout",
          "text": [
            "+---------+--------+-------+------+------+-----+------------+--------+-------+------------+----+\n",
            "|matricula|    nome| cidade|estado|  pais|idade|departamento|   cargo|salario|escolaridade|nota|\n",
            "+---------+--------+-------+------+------+-----+------------+--------+-------+------------+----+\n",
            "|        1|   Lucas|Atibaia|    SP|Brasil|   35|     Compras| Gerente|  25000|    Superior|   8|\n",
            "|        3|   Luiza| Santos|    SP|Brasil|   38|    Finanças| Gerente|  28000|         MBA|   9|\n",
            "|        4|Fernando|Atibaia|    SP|Brasil|   36|   Marketing| Diretor|  40000|    Mestrado|   7|\n",
            "|        7| Eduardo|Extrema|    MG|Brasil|   30|   Marketing| Gerente|  12000|         MBA|   4|\n",
            "|       10|   Maria|Extrema|    MG|Brasil|   40|    Produção|Analista|  12000|         MBA|   7|\n",
            "+---------+--------+-------+------+------+-----+------------+--------+-------+------------+----+\n",
            "\n"
          ]
        }
      ]
    },
    {
      "cell_type": "code",
      "source": [
        "# 2) Fazer livremente no mínimo 10 filtros que tragam recortes a partir de colunas diferentes\n",
        "filtro02 = df.filter((df['idade']>=35)&(df['salario']>12000))\n",
        "filtro02.show()"
      ],
      "metadata": {
        "colab": {
          "base_uri": "https://localhost:8080/"
        },
        "id": "laLu-Dck6nzJ",
        "outputId": "5d53c478-e17e-45c6-affd-b250f0119d0d"
      },
      "execution_count": null,
      "outputs": [
        {
          "output_type": "stream",
          "name": "stdout",
          "text": [
            "+---------+--------+-------+------+------+-----+------------+-------+-------+------------+----+\n",
            "|matricula|    nome| cidade|estado|  pais|idade|departamento|  cargo|salario|escolaridade|nota|\n",
            "+---------+--------+-------+------+------+-----+------------+-------+-------+------------+----+\n",
            "|        1|   Lucas|Atibaia|    SP|Brasil|   35|     Compras|Gerente|  25000|    Superior|   8|\n",
            "|        3|   Luiza| Santos|    SP|Brasil|   38|    Finanças|Gerente|  28000|         MBA|   9|\n",
            "|        4|Fernando|Atibaia|    SP|Brasil|   36|   Marketing|Diretor|  40000|    Mestrado|   7|\n",
            "+---------+--------+-------+------+------+-----+------------+-------+-------+------------+----+\n",
            "\n"
          ]
        }
      ]
    },
    {
      "cell_type": "code",
      "source": [
        "# 2) Fazer livremente no mínimo 10 filtros que tragam recortes a partir de colunas diferentes\n",
        "filtro03 = df.filter((df['idade']>=35)&(df['idade']<=40))\n",
        "filtro03.show()"
      ],
      "metadata": {
        "colab": {
          "base_uri": "https://localhost:8080/"
        },
        "id": "ZvCawQ7B7EuF",
        "outputId": "51d057a0-bdda-4a5c-e886-f536fe0e4015"
      },
      "execution_count": null,
      "outputs": [
        {
          "output_type": "stream",
          "name": "stdout",
          "text": [
            "+---------+--------+-------+------+------+-----+------------+--------+-------+------------+----+\n",
            "|matricula|    nome| cidade|estado|  pais|idade|departamento|   cargo|salario|escolaridade|nota|\n",
            "+---------+--------+-------+------+------+-----+------------+--------+-------+------------+----+\n",
            "|        1|   Lucas|Atibaia|    SP|Brasil|   35|     Compras| Gerente|  25000|    Superior|   8|\n",
            "|        3|   Luiza| Santos|    SP|Brasil|   38|    Finanças| Gerente|  28000|         MBA|   9|\n",
            "|        4|Fernando|Atibaia|    SP|Brasil|   36|   Marketing| Diretor|  40000|    Mestrado|   7|\n",
            "|       10|   Maria|Extrema|    MG|Brasil|   40|    Produção|Analista|  12000|         MBA|   7|\n",
            "+---------+--------+-------+------+------+-----+------------+--------+-------+------------+----+\n",
            "\n"
          ]
        }
      ]
    },
    {
      "cell_type": "code",
      "source": [
        "# 2) Fazer livremente no mínimo 10 filtros que tragam recortes a partir de colunas diferentes\n",
        "filtro04 = df.filter((df['idade']>=40)|(df['salario']>=25000))\n",
        "filtro04.show()"
      ],
      "metadata": {
        "colab": {
          "base_uri": "https://localhost:8080/"
        },
        "id": "G9QCWs6n7YN8",
        "outputId": "0e47fbf6-a102-4f20-baf2-e842049fdf3c"
      },
      "execution_count": null,
      "outputs": [
        {
          "output_type": "stream",
          "name": "stdout",
          "text": [
            "+---------+--------+-------+------+------+-----+------------+--------+-------+------------+----+\n",
            "|matricula|    nome| cidade|estado|  pais|idade|departamento|   cargo|salario|escolaridade|nota|\n",
            "+---------+--------+-------+------+------+-----+------------+--------+-------+------------+----+\n",
            "|        1|   Lucas|Atibaia|    SP|Brasil|   35|     Compras| Gerente|  25000|    Superior|   8|\n",
            "|        3|   Luiza| Santos|    SP|Brasil|   38|    Finanças| Gerente|  28000|         MBA|   9|\n",
            "|        4|Fernando|Atibaia|    SP|Brasil|   36|   Marketing| Diretor|  40000|    Mestrado|   7|\n",
            "|       10|   Maria|Extrema|    MG|Brasil|   40|    Produção|Analista|  12000|         MBA|   7|\n",
            "+---------+--------+-------+------+------+-----+------------+--------+-------+------------+----+\n",
            "\n"
          ]
        }
      ]
    },
    {
      "cell_type": "code",
      "source": [
        "# 2) Fazer livremente no mínimo 10 filtros que tragam recortes a partir de colunas diferentes\n",
        "filtro05 = df.filter(~(df['cargo'] == 'Analista'))\n",
        "filtro05.show()"
      ],
      "metadata": {
        "colab": {
          "base_uri": "https://localhost:8080/"
        },
        "id": "v6C5UDvN7wTA",
        "outputId": "24c49ef2-2174-4cdd-a906-32a1fa9ea1d3"
      },
      "execution_count": null,
      "outputs": [
        {
          "output_type": "stream",
          "name": "stdout",
          "text": [
            "+---------+--------+---------+------+------+-----+------------+-----------+-------+------------+----+\n",
            "|matricula|    nome|   cidade|estado|  pais|idade|departamento|      cargo|salario|escolaridade|nota|\n",
            "+---------+--------+---------+------+------+-----+------------+-----------+-------+------------+----+\n",
            "|        1|   Lucas|  Atibaia|    SP|Brasil|   35|     Compras|    Gerente|  25000|    Superior|   8|\n",
            "|        2|     Ana|São Paulo|    SP|Brasil|   29|      Vendas|Coordenador|  12000|    Superior|   6|\n",
            "|        3|   Luiza|   Santos|    SP|Brasil|   38|    Finanças|    Gerente|  28000|         MBA|   9|\n",
            "|        4|Fernando|  Atibaia|    SP|Brasil|   36|   Marketing|    Diretor|  40000|    Mestrado|   7|\n",
            "|        7| Eduardo|  Extrema|    MG|Brasil|   30|   Marketing|    Gerente|  12000|         MBA|   4|\n",
            "+---------+--------+---------+------+------+-----+------------+-----------+-------+------------+----+\n",
            "\n"
          ]
        }
      ]
    },
    {
      "cell_type": "code",
      "source": [
        "# 2) Fazer livremente no mínimo 10 filtros que tragam recortes a partir de colunas diferentes\n",
        "filtro06 = df.filter(col('cidade').startswith('S'))\n",
        "filtro06.show()"
      ],
      "metadata": {
        "colab": {
          "base_uri": "https://localhost:8080/"
        },
        "id": "nieISmps7_6A",
        "outputId": "b9de1e71-78a4-4cc0-906c-4040444abb44"
      },
      "execution_count": null,
      "outputs": [
        {
          "output_type": "stream",
          "name": "stdout",
          "text": [
            "+---------+-----+---------+------+------+-----+------------+-----------+-------+------------+----+\n",
            "|matricula| nome|   cidade|estado|  pais|idade|departamento|      cargo|salario|escolaridade|nota|\n",
            "+---------+-----+---------+------+------+-----+------------+-----------+-------+------------+----+\n",
            "|        2|  Ana|São Paulo|    SP|Brasil|   29|      Vendas|Coordenador|  12000|    Superior|   6|\n",
            "|        3|Luiza|   Santos|    SP|Brasil|   38|    Finanças|    Gerente|  28000|         MBA|   9|\n",
            "+---------+-----+---------+------+------+-----+------------+-----------+-------+------------+----+\n",
            "\n"
          ]
        }
      ]
    },
    {
      "cell_type": "code",
      "source": [
        "# 2) Fazer livremente no mínimo 10 filtros que tragam recortes a partir de colunas diferentes\n",
        "filtro07 = df.filter(~(df['departamento'] == 'Marketing'))\n",
        "filtro07.show()"
      ],
      "metadata": {
        "colab": {
          "base_uri": "https://localhost:8080/"
        },
        "id": "iNDb8eUk8R8S",
        "outputId": "4ca05ab3-d34a-4d71-e845-ad82a62d2bab"
      },
      "execution_count": null,
      "outputs": [
        {
          "output_type": "stream",
          "name": "stdout",
          "text": [
            "+---------+-------+---------+------+------+-----+------------+-----------+-------+------------+----+\n",
            "|matricula|   nome|   cidade|estado|  pais|idade|departamento|      cargo|salario|escolaridade|nota|\n",
            "+---------+-------+---------+------+------+-----+------------+-----------+-------+------------+----+\n",
            "|        1|  Lucas|  Atibaia|    SP|Brasil|   35|     Compras|    Gerente|  25000|    Superior|   8|\n",
            "|        2|    Ana|São Paulo|    SP|Brasil|   29|      Vendas|Coordenador|  12000|    Superior|   6|\n",
            "|        3|  Luiza|   Santos|    SP|Brasil|   38|    Finanças|    Gerente|  28000|         MBA|   9|\n",
            "|        5| Sandra|  Atibaia|    SP|Brasil|   28|    Produção|   Analista|  23000|    Superior|   5|\n",
            "|        6|Douglas| Bragança|    SP|Brasil|   29|    Finanças|   Analista|  11000|    Superior|   9|\n",
            "|        8|  Ester|  Itapeva|    MG|Brasil|   29|     Compras|   Analista|  10000|    Superior|   2|\n",
            "|       10|  Maria|  Extrema|    MG|Brasil|   40|    Produção|   Analista|  12000|         MBA|   7|\n",
            "+---------+-------+---------+------+------+-----+------------+-----------+-------+------------+----+\n",
            "\n"
          ]
        }
      ]
    },
    {
      "cell_type": "code",
      "source": [
        "# 2) Fazer livremente no mínimo 10 filtros que tragam recortes a partir de colunas diferentes\n",
        "filtro08 = df.filter(~(df['departamento'] == 'Marketing')&(df['salario']<=12000))\n",
        "filtro08.show()"
      ],
      "metadata": {
        "colab": {
          "base_uri": "https://localhost:8080/"
        },
        "id": "chaCZfOk8d6z",
        "outputId": "35ad6e45-f83e-4e05-a8b0-0bd9de9a728e"
      },
      "execution_count": null,
      "outputs": [
        {
          "output_type": "stream",
          "name": "stdout",
          "text": [
            "+---------+-------+---------+------+------+-----+------------+-----------+-------+------------+----+\n",
            "|matricula|   nome|   cidade|estado|  pais|idade|departamento|      cargo|salario|escolaridade|nota|\n",
            "+---------+-------+---------+------+------+-----+------------+-----------+-------+------------+----+\n",
            "|        2|    Ana|São Paulo|    SP|Brasil|   29|      Vendas|Coordenador|  12000|    Superior|   6|\n",
            "|        6|Douglas| Bragança|    SP|Brasil|   29|    Finanças|   Analista|  11000|    Superior|   9|\n",
            "|        8|  Ester|  Itapeva|    MG|Brasil|   29|     Compras|   Analista|  10000|    Superior|   2|\n",
            "|       10|  Maria|  Extrema|    MG|Brasil|   40|    Produção|   Analista|  12000|         MBA|   7|\n",
            "+---------+-------+---------+------+------+-----+------------+-----------+-------+------------+----+\n",
            "\n"
          ]
        }
      ]
    },
    {
      "cell_type": "code",
      "source": [
        "# 2) Fazer livremente no mínimo 10 filtros que tragam recortes a partir de colunas diferentes\n",
        "filtro09 = df.filter(col('cidade').startswith('S')|(df['cargo']=='Gerente'))\n",
        "filtro09.show()"
      ],
      "metadata": {
        "colab": {
          "base_uri": "https://localhost:8080/"
        },
        "id": "HUceZWos9IdC",
        "outputId": "721f4f24-bfcf-4a9c-c408-3a94d82f795d"
      },
      "execution_count": null,
      "outputs": [
        {
          "output_type": "stream",
          "name": "stdout",
          "text": [
            "+---------+-------+---------+------+------+-----+------------+-----------+-------+------------+----+\n",
            "|matricula|   nome|   cidade|estado|  pais|idade|departamento|      cargo|salario|escolaridade|nota|\n",
            "+---------+-------+---------+------+------+-----+------------+-----------+-------+------------+----+\n",
            "|        1|  Lucas|  Atibaia|    SP|Brasil|   35|     Compras|    Gerente|  25000|    Superior|   8|\n",
            "|        2|    Ana|São Paulo|    SP|Brasil|   29|      Vendas|Coordenador|  12000|    Superior|   6|\n",
            "|        3|  Luiza|   Santos|    SP|Brasil|   38|    Finanças|    Gerente|  28000|         MBA|   9|\n",
            "|        7|Eduardo|  Extrema|    MG|Brasil|   30|   Marketing|    Gerente|  12000|         MBA|   4|\n",
            "+---------+-------+---------+------+------+-----+------------+-----------+-------+------------+----+\n",
            "\n"
          ]
        }
      ]
    },
    {
      "cell_type": "code",
      "source": [
        "# 2) Fazer livremente no mínimo 10 filtros que tragam recortes a partir de colunas diferentes\n",
        "filtro10 = df.filter(~(col('nome').startswith('L')))\n",
        "filtro10.show()"
      ],
      "metadata": {
        "colab": {
          "base_uri": "https://localhost:8080/"
        },
        "id": "JNi4xKvY9rAA",
        "outputId": "c4ff4648-9e27-4f69-f1c7-f17c2b408126"
      },
      "execution_count": null,
      "outputs": [
        {
          "output_type": "stream",
          "name": "stdout",
          "text": [
            "+---------+--------+---------+------+------+-----+------------+-----------+-------+------------+----+\n",
            "|matricula|    nome|   cidade|estado|  pais|idade|departamento|      cargo|salario|escolaridade|nota|\n",
            "+---------+--------+---------+------+------+-----+------------+-----------+-------+------------+----+\n",
            "|        2|     Ana|São Paulo|    SP|Brasil|   29|      Vendas|Coordenador|  12000|    Superior|   6|\n",
            "|        4|Fernando|  Atibaia|    SP|Brasil|   36|   Marketing|    Diretor|  40000|    Mestrado|   7|\n",
            "|        5|  Sandra|  Atibaia|    SP|Brasil|   28|    Produção|   Analista|  23000|    Superior|   5|\n",
            "|        6| Douglas| Bragança|    SP|Brasil|   29|    Finanças|   Analista|  11000|    Superior|   9|\n",
            "|        7| Eduardo|  Extrema|    MG|Brasil|   30|   Marketing|    Gerente|  12000|         MBA|   4|\n",
            "|        8|   Ester|  Itapeva|    MG|Brasil|   29|     Compras|   Analista|  10000|    Superior|   2|\n",
            "|        9|   Pedro|  Extrema|    MG|Brasil|   30|   Marketing|   Analista|  13000|    Superior|   1|\n",
            "|       10|   Maria|  Extrema|    MG|Brasil|   40|    Produção|   Analista|  12000|         MBA|   7|\n",
            "+---------+--------+---------+------+------+-----+------------+-----------+-------+------------+----+\n",
            "\n"
          ]
        }
      ]
    },
    {
      "cell_type": "code",
      "source": [
        "#3) Considerando que todos os funcionários tem um desconto de previdência complementar de 10 % crie uma nova coluna chamada previdencia.\n",
        "df = df.withColumn('previdencia',df['salario']*0.1)\n",
        "df.show()"
      ],
      "metadata": {
        "colab": {
          "base_uri": "https://localhost:8080/"
        },
        "id": "iGZwI8Jtznf3",
        "outputId": "190c316f-cc76-487e-d54a-da8afad1ac79"
      },
      "execution_count": null,
      "outputs": [
        {
          "output_type": "stream",
          "name": "stdout",
          "text": [
            "+---------+--------+---------+------+------+-----+------------+-----------+-------+------------+----+-----------+\n",
            "|matricula|    nome|   cidade|estado|  pais|idade|departamento|      cargo|salario|escolaridade|nota|previdencia|\n",
            "+---------+--------+---------+------+------+-----+------------+-----------+-------+------------+----+-----------+\n",
            "|        1|   Lucas|  Atibaia|    SP|Brasil|   35|     Compras|    Gerente|25000.0|    Superior| 8.0|     2500.0|\n",
            "|        2|     Ana|São Paulo|    SP|Brasil|   29|      Vendas|Coordenador|12000.0|    Superior| 6.0|     1200.0|\n",
            "|        3|   Luiza|   Santos|    SP|Brasil|   38|    Finanças|    Gerente|28000.0|         MBA| 9.0|     2800.0|\n",
            "|        4|Fernando|  Atibaia|    SP|Brasil|   36|   Marketing|    Diretor|40000.0|    Mestrado| 7.0|     4000.0|\n",
            "|        5|  Sandra|  Atibaia|    SP|Brasil|   28|    Produção|   Analista|23000.0|    Superior| 5.0|     2300.0|\n",
            "|        6| Douglas| Bragança|    SP|Brasil|   29|    Finanças|   Analista|11000.0|    Superior| 9.0|     1100.0|\n",
            "|        7| Eduardo|  Extrema|    MG|Brasil|   30|   Marketing|    Gerente|12000.0|         MBA| 4.0|     1200.0|\n",
            "|        8|   Ester|  Itapeva|    MG|Brasil|   29|     Compras|   Analista|10000.0|    Superior| 2.0|     1000.0|\n",
            "|        9|   Pedro|  Extrema|    MG|Brasil|   30|   Marketing|   Analista|13000.0|    Superior| 1.0|     1300.0|\n",
            "|       10|   Maria|  Extrema|    MG|Brasil|   40|    Produção|   Analista|12000.0|         MBA| 7.0|     1200.0|\n",
            "+---------+--------+---------+------+------+-----+------------+-----------+-------+------------+----+-----------+\n",
            "\n"
          ]
        }
      ]
    },
    {
      "cell_type": "code",
      "source": [
        "#4) Considerando que todos os funcionários tem um bônus complementar de 20 % crie uma nova coluna chamada bonus.\n",
        "df = df.withColumn('bonus',df['salario']*0.2)\n",
        "df.show()"
      ],
      "metadata": {
        "colab": {
          "base_uri": "https://localhost:8080/"
        },
        "id": "H4PT3LU11MWT",
        "outputId": "3fbb3728-b9f2-4b98-f0ea-afd7a38df4b4"
      },
      "execution_count": null,
      "outputs": [
        {
          "output_type": "stream",
          "name": "stdout",
          "text": [
            "+---------+--------+---------+------+------+-----+------------+-----------+-------+------------+----+-----------+------+\n",
            "|matricula|    nome|   cidade|estado|  pais|idade|departamento|      cargo|salario|escolaridade|nota|previdencia| bonus|\n",
            "+---------+--------+---------+------+------+-----+------------+-----------+-------+------------+----+-----------+------+\n",
            "|        1|   Lucas|  Atibaia|    SP|Brasil|   35|     Compras|    Gerente|25000.0|    Superior| 8.0|     2500.0|5000.0|\n",
            "|        2|     Ana|São Paulo|    SP|Brasil|   29|      Vendas|Coordenador|12000.0|    Superior| 6.0|     1200.0|2400.0|\n",
            "|        3|   Luiza|   Santos|    SP|Brasil|   38|    Finanças|    Gerente|28000.0|         MBA| 9.0|     2800.0|5600.0|\n",
            "|        4|Fernando|  Atibaia|    SP|Brasil|   36|   Marketing|    Diretor|40000.0|    Mestrado| 7.0|     4000.0|8000.0|\n",
            "|        5|  Sandra|  Atibaia|    SP|Brasil|   28|    Produção|   Analista|23000.0|    Superior| 5.0|     2300.0|4600.0|\n",
            "|        6| Douglas| Bragança|    SP|Brasil|   29|    Finanças|   Analista|11000.0|    Superior| 9.0|     1100.0|2200.0|\n",
            "|        7| Eduardo|  Extrema|    MG|Brasil|   30|   Marketing|    Gerente|12000.0|         MBA| 4.0|     1200.0|2400.0|\n",
            "|        8|   Ester|  Itapeva|    MG|Brasil|   29|     Compras|   Analista|10000.0|    Superior| 2.0|     1000.0|2000.0|\n",
            "|        9|   Pedro|  Extrema|    MG|Brasil|   30|   Marketing|   Analista|13000.0|    Superior| 1.0|     1300.0|2600.0|\n",
            "|       10|   Maria|  Extrema|    MG|Brasil|   40|    Produção|   Analista|12000.0|         MBA| 7.0|     1200.0|2400.0|\n",
            "+---------+--------+---------+------+------+-----+------------+-----------+-------+------------+----+-----------+------+\n",
            "\n"
          ]
        }
      ]
    },
    {
      "cell_type": "code",
      "source": [
        "# 5) Crie uma nova coluna com todos os nomes dos funcionários em letras minúsculas\n",
        "df = df.withColumn('nomes_min',lower(col('nome')))\n",
        "df.show()"
      ],
      "metadata": {
        "colab": {
          "base_uri": "https://localhost:8080/"
        },
        "id": "vTfoxIea1szy",
        "outputId": "8b2b5248-ae79-4e9b-dc2a-505a7f26d7e2"
      },
      "execution_count": null,
      "outputs": [
        {
          "output_type": "stream",
          "name": "stdout",
          "text": [
            "+---------+--------+---------+------+------+-----+------------+-----------+-------+------------+----+-----------+------+---------+\n",
            "|matricula|    nome|   cidade|estado|  pais|idade|departamento|      cargo|salario|escolaridade|nota|previdencia| bonus|nomes_min|\n",
            "+---------+--------+---------+------+------+-----+------------+-----------+-------+------------+----+-----------+------+---------+\n",
            "|        1|   Lucas|  Atibaia|    SP|Brasil|   35|     Compras|    Gerente|25000.0|    Superior| 8.0|     2500.0|5000.0|    lucas|\n",
            "|        2|     Ana|São Paulo|    SP|Brasil|   29|      Vendas|Coordenador|12000.0|    Superior| 6.0|     1200.0|2400.0|      ana|\n",
            "|        3|   Luiza|   Santos|    SP|Brasil|   38|    Finanças|    Gerente|28000.0|         MBA| 9.0|     2800.0|5600.0|    luiza|\n",
            "|        4|Fernando|  Atibaia|    SP|Brasil|   36|   Marketing|    Diretor|40000.0|    Mestrado| 7.0|     4000.0|8000.0| fernando|\n",
            "|        5|  Sandra|  Atibaia|    SP|Brasil|   28|    Produção|   Analista|23000.0|    Superior| 5.0|     2300.0|4600.0|   sandra|\n",
            "|        6| Douglas| Bragança|    SP|Brasil|   29|    Finanças|   Analista|11000.0|    Superior| 9.0|     1100.0|2200.0|  douglas|\n",
            "|        7| Eduardo|  Extrema|    MG|Brasil|   30|   Marketing|    Gerente|12000.0|         MBA| 4.0|     1200.0|2400.0|  eduardo|\n",
            "|        8|   Ester|  Itapeva|    MG|Brasil|   29|     Compras|   Analista|10000.0|    Superior| 2.0|     1000.0|2000.0|    ester|\n",
            "|        9|   Pedro|  Extrema|    MG|Brasil|   30|   Marketing|   Analista|13000.0|    Superior| 1.0|     1300.0|2600.0|    pedro|\n",
            "|       10|   Maria|  Extrema|    MG|Brasil|   40|    Produção|   Analista|12000.0|         MBA| 7.0|     1200.0|2400.0|    maria|\n",
            "+---------+--------+---------+------+------+-----+------------+-----------+-------+------------+----+-----------+------+---------+\n",
            "\n"
          ]
        }
      ]
    },
    {
      "cell_type": "code",
      "source": [
        "#6 - Crie uma nova coluna com os nomes dos funcionários todos em letras maiúsculas\n",
        "df = df.withColumn('nomes_max',upper(col('nome')))\n",
        "df.show()"
      ],
      "metadata": {
        "colab": {
          "base_uri": "https://localhost:8080/"
        },
        "id": "-R1uraiM18rG",
        "outputId": "2a9b9901-143a-49f6-cb7d-4e543c144b08"
      },
      "execution_count": null,
      "outputs": [
        {
          "output_type": "stream",
          "name": "stdout",
          "text": [
            "+---------+--------+---------+------+------+-----+------------+-----------+-------+------------+----+-----------+------+---------+---------+\n",
            "|matricula|    nome|   cidade|estado|  pais|idade|departamento|      cargo|salario|escolaridade|nota|previdencia| bonus|nomes_min|nomes_max|\n",
            "+---------+--------+---------+------+------+-----+------------+-----------+-------+------------+----+-----------+------+---------+---------+\n",
            "|        1|   Lucas|  Atibaia|    SP|Brasil|   35|     Compras|    Gerente|25000.0|    Superior| 8.0|     2500.0|5000.0|    lucas|    LUCAS|\n",
            "|        2|     Ana|São Paulo|    SP|Brasil|   29|      Vendas|Coordenador|12000.0|    Superior| 6.0|     1200.0|2400.0|      ana|      ANA|\n",
            "|        3|   Luiza|   Santos|    SP|Brasil|   38|    Finanças|    Gerente|28000.0|         MBA| 9.0|     2800.0|5600.0|    luiza|    LUIZA|\n",
            "|        4|Fernando|  Atibaia|    SP|Brasil|   36|   Marketing|    Diretor|40000.0|    Mestrado| 7.0|     4000.0|8000.0| fernando| FERNANDO|\n",
            "|        5|  Sandra|  Atibaia|    SP|Brasil|   28|    Produção|   Analista|23000.0|    Superior| 5.0|     2300.0|4600.0|   sandra|   SANDRA|\n",
            "|        6| Douglas| Bragança|    SP|Brasil|   29|    Finanças|   Analista|11000.0|    Superior| 9.0|     1100.0|2200.0|  douglas|  DOUGLAS|\n",
            "|        7| Eduardo|  Extrema|    MG|Brasil|   30|   Marketing|    Gerente|12000.0|         MBA| 4.0|     1200.0|2400.0|  eduardo|  EDUARDO|\n",
            "|        8|   Ester|  Itapeva|    MG|Brasil|   29|     Compras|   Analista|10000.0|    Superior| 2.0|     1000.0|2000.0|    ester|    ESTER|\n",
            "|        9|   Pedro|  Extrema|    MG|Brasil|   30|   Marketing|   Analista|13000.0|    Superior| 1.0|     1300.0|2600.0|    pedro|    PEDRO|\n",
            "|       10|   Maria|  Extrema|    MG|Brasil|   40|    Produção|   Analista|12000.0|         MBA| 7.0|     1200.0|2400.0|    maria|    MARIA|\n",
            "+---------+--------+---------+------+------+-----+------------+-----------+-------+------------+----+-----------+------+---------+---------+\n",
            "\n"
          ]
        }
      ]
    },
    {
      "cell_type": "code",
      "source": [
        "# 7) Crie um novo dataframe  chamado quant apensa com as colunas idade, salário e notas\n",
        "quant = df.select('idade','salario','nota')\n",
        "quant.show()"
      ],
      "metadata": {
        "colab": {
          "base_uri": "https://localhost:8080/"
        },
        "id": "6Cis-fXy2xcr",
        "outputId": "366faed9-f59e-433f-f789-0600bb222139"
      },
      "execution_count": null,
      "outputs": [
        {
          "output_type": "stream",
          "name": "stdout",
          "text": [
            "+-----+-------+----+\n",
            "|idade|salario|nota|\n",
            "+-----+-------+----+\n",
            "|   35|25000.0| 8.0|\n",
            "|   29|12000.0| 6.0|\n",
            "|   38|28000.0| 9.0|\n",
            "|   36|40000.0| 7.0|\n",
            "|   28|23000.0| 5.0|\n",
            "|   29|11000.0| 9.0|\n",
            "|   30|12000.0| 4.0|\n",
            "|   29|10000.0| 2.0|\n",
            "|   30|13000.0| 1.0|\n",
            "|   40|12000.0| 7.0|\n",
            "+-----+-------+----+\n",
            "\n"
          ]
        }
      ]
    },
    {
      "cell_type": "code",
      "source": [
        "# 8) Calcule as principais medidas descritivas do df quant (describe)\n",
        "quant.describe().show()"
      ],
      "metadata": {
        "colab": {
          "base_uri": "https://localhost:8080/"
        },
        "id": "lYo7fVqs3NQf",
        "outputId": "d279a4c5-2321-4ca3-c82f-b5fdd025e349"
      },
      "execution_count": null,
      "outputs": [
        {
          "output_type": "stream",
          "name": "stdout",
          "text": [
            "+-------+-----------------+------------------+-----------------+\n",
            "|summary|            idade|           salario|             nota|\n",
            "+-------+-----------------+------------------+-----------------+\n",
            "|  count|               10|                10|               10|\n",
            "|   mean|             32.4|           18600.0|              5.8|\n",
            "| stddev|4.402019738458447|10002.221975363496|2.780887148615228|\n",
            "|    min|               28|           10000.0|              1.0|\n",
            "|    max|               40|           40000.0|              9.0|\n",
            "+-------+-----------------+------------------+-----------------+\n",
            "\n"
          ]
        }
      ]
    },
    {
      "cell_type": "code",
      "source": [
        "# 9) Ordene o df original por notas de forma crescente\n",
        "df.orderBy('nome')"
      ],
      "metadata": {
        "colab": {
          "base_uri": "https://localhost:8080/",
          "height": 268
        },
        "id": "d3nY9-fZ3ihK",
        "outputId": "837eba58-2e81-43ed-9111-e2437a0ea30b"
      },
      "execution_count": null,
      "outputs": [
        {
          "output_type": "execute_result",
          "data": {
            "text/plain": [
              "+---------+--------+---------+------+------+-----+------------+-----------+-------+------------+----+-----------+------+---------+---------+\n",
              "|matricula|    nome|   cidade|estado|  pais|idade|departamento|      cargo|salario|escolaridade|nota|previdencia| bonus|nomes_min|nomes_max|\n",
              "+---------+--------+---------+------+------+-----+------------+-----------+-------+------------+----+-----------+------+---------+---------+\n",
              "|        2|     Ana|São Paulo|    SP|Brasil|   29|      Vendas|Coordenador|12000.0|    Superior| 6.0|     1200.0|2400.0|      ana|      ANA|\n",
              "|        6| Douglas| Bragança|    SP|Brasil|   29|    Finanças|   Analista|11000.0|    Superior| 9.0|     1100.0|2200.0|  douglas|  DOUGLAS|\n",
              "|        7| Eduardo|  Extrema|    MG|Brasil|   30|   Marketing|    Gerente|12000.0|         MBA| 4.0|     1200.0|2400.0|  eduardo|  EDUARDO|\n",
              "|        8|   Ester|  Itapeva|    MG|Brasil|   29|     Compras|   Analista|10000.0|    Superior| 2.0|     1000.0|2000.0|    ester|    ESTER|\n",
              "|        4|Fernando|  Atibaia|    SP|Brasil|   36|   Marketing|    Diretor|40000.0|    Mestrado| 7.0|     4000.0|8000.0| fernando| FERNANDO|\n",
              "|        1|   Lucas|  Atibaia|    SP|Brasil|   35|     Compras|    Gerente|25000.0|    Superior| 8.0|     2500.0|5000.0|    lucas|    LUCAS|\n",
              "|        3|   Luiza|   Santos|    SP|Brasil|   38|    Finanças|    Gerente|28000.0|         MBA| 9.0|     2800.0|5600.0|    luiza|    LUIZA|\n",
              "|       10|   Maria|  Extrema|    MG|Brasil|   40|    Produção|   Analista|12000.0|         MBA| 7.0|     1200.0|2400.0|    maria|    MARIA|\n",
              "|        9|   Pedro|  Extrema|    MG|Brasil|   30|   Marketing|   Analista|13000.0|    Superior| 1.0|     1300.0|2600.0|    pedro|    PEDRO|\n",
              "|        5|  Sandra|  Atibaia|    SP|Brasil|   28|    Produção|   Analista|23000.0|    Superior| 5.0|     2300.0|4600.0|   sandra|   SANDRA|\n",
              "+---------+--------+---------+------+------+-----+------------+-----------+-------+------------+----+-----------+------+---------+---------+"
            ],
            "text/html": [
              "<table border='1'>\n",
              "<tr><th>matricula</th><th>nome</th><th>cidade</th><th>estado</th><th>pais</th><th>idade</th><th>departamento</th><th>cargo</th><th>salario</th><th>escolaridade</th><th>nota</th><th>previdencia</th><th>bonus</th><th>nomes_min</th><th>nomes_max</th></tr>\n",
              "<tr><td>2</td><td>Ana</td><td>São Paulo</td><td>SP</td><td>Brasil</td><td>29</td><td>Vendas</td><td>Coordenador</td><td>12000.0</td><td>Superior</td><td>6.0</td><td>1200.0</td><td>2400.0</td><td>ana</td><td>ANA</td></tr>\n",
              "<tr><td>6</td><td>Douglas</td><td>Bragança</td><td>SP</td><td>Brasil</td><td>29</td><td>Finanças</td><td>Analista</td><td>11000.0</td><td>Superior</td><td>9.0</td><td>1100.0</td><td>2200.0</td><td>douglas</td><td>DOUGLAS</td></tr>\n",
              "<tr><td>7</td><td>Eduardo</td><td>Extrema</td><td>MG</td><td>Brasil</td><td>30</td><td>Marketing</td><td>Gerente</td><td>12000.0</td><td>MBA</td><td>4.0</td><td>1200.0</td><td>2400.0</td><td>eduardo</td><td>EDUARDO</td></tr>\n",
              "<tr><td>8</td><td>Ester</td><td>Itapeva</td><td>MG</td><td>Brasil</td><td>29</td><td>Compras</td><td>Analista</td><td>10000.0</td><td>Superior</td><td>2.0</td><td>1000.0</td><td>2000.0</td><td>ester</td><td>ESTER</td></tr>\n",
              "<tr><td>4</td><td>Fernando</td><td>Atibaia</td><td>SP</td><td>Brasil</td><td>36</td><td>Marketing</td><td>Diretor</td><td>40000.0</td><td>Mestrado</td><td>7.0</td><td>4000.0</td><td>8000.0</td><td>fernando</td><td>FERNANDO</td></tr>\n",
              "<tr><td>1</td><td>Lucas</td><td>Atibaia</td><td>SP</td><td>Brasil</td><td>35</td><td>Compras</td><td>Gerente</td><td>25000.0</td><td>Superior</td><td>8.0</td><td>2500.0</td><td>5000.0</td><td>lucas</td><td>LUCAS</td></tr>\n",
              "<tr><td>3</td><td>Luiza</td><td>Santos</td><td>SP</td><td>Brasil</td><td>38</td><td>Finanças</td><td>Gerente</td><td>28000.0</td><td>MBA</td><td>9.0</td><td>2800.0</td><td>5600.0</td><td>luiza</td><td>LUIZA</td></tr>\n",
              "<tr><td>10</td><td>Maria</td><td>Extrema</td><td>MG</td><td>Brasil</td><td>40</td><td>Produção</td><td>Analista</td><td>12000.0</td><td>MBA</td><td>7.0</td><td>1200.0</td><td>2400.0</td><td>maria</td><td>MARIA</td></tr>\n",
              "<tr><td>9</td><td>Pedro</td><td>Extrema</td><td>MG</td><td>Brasil</td><td>30</td><td>Marketing</td><td>Analista</td><td>13000.0</td><td>Superior</td><td>1.0</td><td>1300.0</td><td>2600.0</td><td>pedro</td><td>PEDRO</td></tr>\n",
              "<tr><td>5</td><td>Sandra</td><td>Atibaia</td><td>SP</td><td>Brasil</td><td>28</td><td>Produção</td><td>Analista</td><td>23000.0</td><td>Superior</td><td>5.0</td><td>2300.0</td><td>4600.0</td><td>sandra</td><td>SANDRA</td></tr>\n",
              "</table>\n"
            ]
          },
          "metadata": {},
          "execution_count": 82
        }
      ]
    },
    {
      "cell_type": "code",
      "source": [
        "'''\n",
        "10 - faça as contagens de frequências, usando groupby para as seguintes colunas:\n",
        "a) Cargo\n",
        "b) Cidade\n",
        "c) Estado\n",
        "d) Escolaridade\n",
        "e) Departamento\n",
        "'''\n",
        "df.groupBy('cargo').agg({'cargo':'count'})"
      ],
      "metadata": {
        "colab": {
          "base_uri": "https://localhost:8080/",
          "height": 133
        },
        "id": "624Y0Gxo4FYX",
        "outputId": "79cd397c-c4e9-4a50-da43-eca712f82ecb"
      },
      "execution_count": null,
      "outputs": [
        {
          "output_type": "execute_result",
          "data": {
            "text/plain": [
              "+-----------+------------+\n",
              "|      cargo|count(cargo)|\n",
              "+-----------+------------+\n",
              "|    Gerente|           3|\n",
              "|Coordenador|           1|\n",
              "|    Diretor|           1|\n",
              "|   Analista|           5|\n",
              "+-----------+------------+"
            ],
            "text/html": [
              "<table border='1'>\n",
              "<tr><th>cargo</th><th>count(cargo)</th></tr>\n",
              "<tr><td>Gerente</td><td>3</td></tr>\n",
              "<tr><td>Coordenador</td><td>1</td></tr>\n",
              "<tr><td>Diretor</td><td>1</td></tr>\n",
              "<tr><td>Analista</td><td>5</td></tr>\n",
              "</table>\n"
            ]
          },
          "metadata": {},
          "execution_count": 88
        }
      ]
    },
    {
      "cell_type": "code",
      "source": [
        "'''\n",
        "10 - faça as contagens de frequências, usando groupby para as seguintes colunas:\n",
        "a) Cargo\n",
        "b) Cidade\n",
        "c) Estado\n",
        "d) Escolaridade\n",
        "e) Departamento\n",
        "'''\n",
        "df.groupBy('cidade').agg({'cidade':'count'})"
      ],
      "metadata": {
        "colab": {
          "base_uri": "https://localhost:8080/",
          "height": 178
        },
        "id": "7E1yY58L4wEH",
        "outputId": "3622cf04-be42-4ba8-d528-4eab3814e6d2"
      },
      "execution_count": null,
      "outputs": [
        {
          "output_type": "execute_result",
          "data": {
            "text/plain": [
              "+---------+-------------+\n",
              "|   cidade|count(cidade)|\n",
              "+---------+-------------+\n",
              "|   Santos|            1|\n",
              "|  Extrema|            3|\n",
              "|São Paulo|            1|\n",
              "|  Atibaia|            3|\n",
              "| Bragança|            1|\n",
              "|  Itapeva|            1|\n",
              "+---------+-------------+"
            ],
            "text/html": [
              "<table border='1'>\n",
              "<tr><th>cidade</th><th>count(cidade)</th></tr>\n",
              "<tr><td>Santos</td><td>1</td></tr>\n",
              "<tr><td>Extrema</td><td>3</td></tr>\n",
              "<tr><td>São Paulo</td><td>1</td></tr>\n",
              "<tr><td>Atibaia</td><td>3</td></tr>\n",
              "<tr><td>Bragança</td><td>1</td></tr>\n",
              "<tr><td>Itapeva</td><td>1</td></tr>\n",
              "</table>\n"
            ]
          },
          "metadata": {},
          "execution_count": 89
        }
      ]
    },
    {
      "cell_type": "code",
      "source": [
        "'''\n",
        "10 - faça as contagens de frequências, usando groupby para as seguintes colunas:\n",
        "a) Cargo\n",
        "b) Cidade\n",
        "c) Estado\n",
        "d) Escolaridade\n",
        "e) Departamento\n",
        "'''\n",
        "df.groupBy('estado').agg({'estado':'count'})"
      ],
      "metadata": {
        "colab": {
          "base_uri": "https://localhost:8080/",
          "height": 88
        },
        "id": "mv2oEtDE415F",
        "outputId": "414dfec7-51a3-4a06-a5f2-3b9744c99e3e"
      },
      "execution_count": null,
      "outputs": [
        {
          "output_type": "execute_result",
          "data": {
            "text/plain": [
              "+------+-------------+\n",
              "|estado|count(estado)|\n",
              "+------+-------------+\n",
              "|    SP|            6|\n",
              "|    MG|            4|\n",
              "+------+-------------+"
            ],
            "text/html": [
              "<table border='1'>\n",
              "<tr><th>estado</th><th>count(estado)</th></tr>\n",
              "<tr><td>SP</td><td>6</td></tr>\n",
              "<tr><td>MG</td><td>4</td></tr>\n",
              "</table>\n"
            ]
          },
          "metadata": {},
          "execution_count": 90
        }
      ]
    },
    {
      "cell_type": "code",
      "source": [
        "'''\n",
        "10 - faça as contagens de frequências, usando groupby para as seguintes colunas:\n",
        "a) Cargo\n",
        "b) Cidade\n",
        "c) Estado\n",
        "d) Escolaridade\n",
        "e) Departamento\n",
        "'''\n",
        "df.groupBy('escolaridade').agg({'escolaridade':'count'})"
      ],
      "metadata": {
        "colab": {
          "base_uri": "https://localhost:8080/",
          "height": 110
        },
        "id": "APyLs7z-49vI",
        "outputId": "998b96a9-a500-4e7e-af29-0809b53aa072"
      },
      "execution_count": null,
      "outputs": [
        {
          "output_type": "execute_result",
          "data": {
            "text/plain": [
              "+------------+-------------------+\n",
              "|escolaridade|count(escolaridade)|\n",
              "+------------+-------------------+\n",
              "|    Superior|                  6|\n",
              "|    Mestrado|                  1|\n",
              "|         MBA|                  3|\n",
              "+------------+-------------------+"
            ],
            "text/html": [
              "<table border='1'>\n",
              "<tr><th>escolaridade</th><th>count(escolaridade)</th></tr>\n",
              "<tr><td>Superior</td><td>6</td></tr>\n",
              "<tr><td>Mestrado</td><td>1</td></tr>\n",
              "<tr><td>MBA</td><td>3</td></tr>\n",
              "</table>\n"
            ]
          },
          "metadata": {},
          "execution_count": 91
        }
      ]
    },
    {
      "cell_type": "code",
      "source": [
        "'''\n",
        "10 - faça as contagens de frequências, usando groupby para as seguintes colunas:\n",
        "a) Cargo\n",
        "b) Cidade\n",
        "c) Estado\n",
        "d) Escolaridade\n",
        "e) Departamento\n",
        "'''\n",
        "df.groupBy('departamento').agg({'departamento':'count'})"
      ],
      "metadata": {
        "colab": {
          "base_uri": "https://localhost:8080/",
          "height": 156
        },
        "id": "JTzpaxze5FhG",
        "outputId": "6778ca7a-ed91-4300-9543-cb66586425ae"
      },
      "execution_count": null,
      "outputs": [
        {
          "output_type": "execute_result",
          "data": {
            "text/plain": [
              "+------------+-------------------+\n",
              "|departamento|count(departamento)|\n",
              "+------------+-------------------+\n",
              "|      Vendas|                  1|\n",
              "|    Finanças|                  2|\n",
              "|   Marketing|                  3|\n",
              "|     Compras|                  2|\n",
              "|    Produção|                  2|\n",
              "+------------+-------------------+"
            ],
            "text/html": [
              "<table border='1'>\n",
              "<tr><th>departamento</th><th>count(departamento)</th></tr>\n",
              "<tr><td>Vendas</td><td>1</td></tr>\n",
              "<tr><td>Finanças</td><td>2</td></tr>\n",
              "<tr><td>Marketing</td><td>3</td></tr>\n",
              "<tr><td>Compras</td><td>2</td></tr>\n",
              "<tr><td>Produção</td><td>2</td></tr>\n",
              "</table>\n"
            ]
          },
          "metadata": {},
          "execution_count": 92
        }
      ]
    }
  ]
}